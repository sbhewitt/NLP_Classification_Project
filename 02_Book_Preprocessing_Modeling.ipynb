{
 "cells": [
  {
   "cell_type": "markdown",
   "id": "a826f339-32be-484c-8ab6-885e43aad473",
   "metadata": {},
   "source": [
    "## Pre-Processing"
   ]
  },
  {
   "cell_type": "code",
   "execution_count": 1,
   "id": "3079e464-e298-4907-8239-d82d9f6c00ca",
   "metadata": {},
   "outputs": [],
   "source": [
    "# imports\n",
    "import pandas as pd\n",
    "import matplotlib.pyplot as plt\n",
    "import seaborn as sns\n",
    "from sklearn.model_selection import train_test_split, GridSearchCV\n",
    "from sklearn.pipeline import Pipeline\n",
    "from sklearn.naive_bayes import MultinomialNB\n",
    "from sklearn.linear_model import LogisticRegression\n",
    "from sklearn.metrics import confusion_matrix, plot_confusion_matrix\n",
    "\n",
    "# Import CountVectorizer and TFIDFVectorizer from feature_extraction.text.\n",
    "from sklearn.feature_extraction.text import CountVectorizer, TfidfVectorizer"
   ]
  },
  {
   "cell_type": "code",
   "execution_count": 2,
   "id": "d71414e1-5dd5-49f9-9ea1-4d94646b8e0e",
   "metadata": {},
   "outputs": [],
   "source": [
    "books_data = pd.read_csv('./data/books_cleaned_data.csv')\n",
    "fantasy_data = pd.read_csv('./data/fantasy_cleaned_data.csv')\n",
    "total_data = pd.read_csv('./data/total_cleaned_data.csv')"
   ]
  },
  {
   "cell_type": "code",
   "execution_count": 3,
   "id": "9c0535d6-cac2-48a7-ac3d-e32965b41147",
   "metadata": {},
   "outputs": [
    {
     "data": {
      "text/html": [
       "<div>\n",
       "<style scoped>\n",
       "    .dataframe tbody tr th:only-of-type {\n",
       "        vertical-align: middle;\n",
       "    }\n",
       "\n",
       "    .dataframe tbody tr th {\n",
       "        vertical-align: top;\n",
       "    }\n",
       "\n",
       "    .dataframe thead th {\n",
       "        text-align: right;\n",
       "    }\n",
       "</style>\n",
       "<table border=\"1\" class=\"dataframe\">\n",
       "  <thead>\n",
       "    <tr style=\"text-align: right;\">\n",
       "      <th></th>\n",
       "      <th>subreddit</th>\n",
       "      <th>selftext</th>\n",
       "      <th>title</th>\n",
       "    </tr>\n",
       "  </thead>\n",
       "  <tbody>\n",
       "    <tr>\n",
       "      <th>0</th>\n",
       "      <td>books</td>\n",
       "      <td>This is one of my favorite books. I remember r...</td>\n",
       "      <td>A Wizard of Earthsea</td>\n",
       "    </tr>\n",
       "    <tr>\n",
       "      <th>1</th>\n",
       "      <td>books</td>\n",
       "      <td>George Orwell sees writers as having only four...</td>\n",
       "      <td>Just Read George Orwell's 'Why I Write'</td>\n",
       "    </tr>\n",
       "    <tr>\n",
       "      <th>2</th>\n",
       "      <td>books</td>\n",
       "      <td>With the prevalance of various forms of multi...</td>\n",
       "      <td>Books are an underrated way of learning langua...</td>\n",
       "    </tr>\n",
       "    <tr>\n",
       "      <th>3</th>\n",
       "      <td>books</td>\n",
       "      <td>With the prevalance of various forms of multi...</td>\n",
       "      <td>Books are an underrated way of learning langua...</td>\n",
       "    </tr>\n",
       "    <tr>\n",
       "      <th>4</th>\n",
       "      <td>books</td>\n",
       "      <td>I just finished reading On Juneteenth by Annet...</td>\n",
       "      <td>The Hub is Proud to Promote the Green Juneteen...</td>\n",
       "    </tr>\n",
       "    <tr>\n",
       "      <th>...</th>\n",
       "      <td>...</td>\n",
       "      <td>...</td>\n",
       "      <td>...</td>\n",
       "    </tr>\n",
       "    <tr>\n",
       "      <th>1468</th>\n",
       "      <td>books</td>\n",
       "      <td>I am currently reading Billiards at Half Past...</td>\n",
       "      <td>Please enlighten me - Billiards at Half Past N...</td>\n",
       "    </tr>\n",
       "    <tr>\n",
       "      <th>1469</th>\n",
       "      <td>books</td>\n",
       "      <td>I am wanting to read Uncle Tom’s Cabin by Harr...</td>\n",
       "      <td>Best copy of Uncle Tom’s Cabin?</td>\n",
       "    </tr>\n",
       "    <tr>\n",
       "      <th>1470</th>\n",
       "      <td>books</td>\n",
       "      <td>I am currently reading Billiards at Half Past ...</td>\n",
       "      <td>Please enlighten me - Billiards at Half Past N...</td>\n",
       "    </tr>\n",
       "    <tr>\n",
       "      <th>1471</th>\n",
       "      <td>books</td>\n",
       "      <td>I feel empty after finishing The Great Gatsby....</td>\n",
       "      <td>Feelings and Thoughts After Reading The Great ...</td>\n",
       "    </tr>\n",
       "    <tr>\n",
       "      <th>1472</th>\n",
       "      <td>books</td>\n",
       "      <td>Hey all-\\n\\nI love Neuromancer by William Gibs...</td>\n",
       "      <td>Let’s talk Cyberpunk!</td>\n",
       "    </tr>\n",
       "  </tbody>\n",
       "</table>\n",
       "<p>1473 rows × 3 columns</p>\n",
       "</div>"
      ],
      "text/plain": [
       "     subreddit                                           selftext  \\\n",
       "0        books  This is one of my favorite books. I remember r...   \n",
       "1        books  George Orwell sees writers as having only four...   \n",
       "2        books   With the prevalance of various forms of multi...   \n",
       "3        books   With the prevalance of various forms of multi...   \n",
       "4        books  I just finished reading On Juneteenth by Annet...   \n",
       "...        ...                                                ...   \n",
       "1468     books   I am currently reading Billiards at Half Past...   \n",
       "1469     books  I am wanting to read Uncle Tom’s Cabin by Harr...   \n",
       "1470     books  I am currently reading Billiards at Half Past ...   \n",
       "1471     books  I feel empty after finishing The Great Gatsby....   \n",
       "1472     books  Hey all-\\n\\nI love Neuromancer by William Gibs...   \n",
       "\n",
       "                                                  title  \n",
       "0                                  A Wizard of Earthsea  \n",
       "1               Just Read George Orwell's 'Why I Write'  \n",
       "2     Books are an underrated way of learning langua...  \n",
       "3     Books are an underrated way of learning langua...  \n",
       "4     The Hub is Proud to Promote the Green Juneteen...  \n",
       "...                                                 ...  \n",
       "1468  Please enlighten me - Billiards at Half Past N...  \n",
       "1469                    Best copy of Uncle Tom’s Cabin?  \n",
       "1470  Please enlighten me - Billiards at Half Past N...  \n",
       "1471  Feelings and Thoughts After Reading The Great ...  \n",
       "1472                              Let’s talk Cyberpunk!  \n",
       "\n",
       "[1473 rows x 3 columns]"
      ]
     },
     "execution_count": 3,
     "metadata": {},
     "output_type": "execute_result"
    }
   ],
   "source": [
    "books_data"
   ]
  },
  {
   "cell_type": "code",
   "execution_count": 4,
   "id": "4865abd6-4198-45f5-9989-c0251c717e6b",
   "metadata": {},
   "outputs": [],
   "source": [
    "# map fantasy and books subreddits to 1 and 0 respectively\n",
    "total_data['subreddit'] = total_data['subreddit'].map({'Fantasy': 1, 'books': 0})"
   ]
  },
  {
   "cell_type": "code",
   "execution_count": 5,
   "id": "57a58de0-b8f8-4183-9527-19c7cfed0517",
   "metadata": {},
   "outputs": [
    {
     "data": {
      "text/html": [
       "<div>\n",
       "<style scoped>\n",
       "    .dataframe tbody tr th:only-of-type {\n",
       "        vertical-align: middle;\n",
       "    }\n",
       "\n",
       "    .dataframe tbody tr th {\n",
       "        vertical-align: top;\n",
       "    }\n",
       "\n",
       "    .dataframe thead th {\n",
       "        text-align: right;\n",
       "    }\n",
       "</style>\n",
       "<table border=\"1\" class=\"dataframe\">\n",
       "  <thead>\n",
       "    <tr style=\"text-align: right;\">\n",
       "      <th></th>\n",
       "      <th>subreddit</th>\n",
       "      <th>selftext</th>\n",
       "      <th>title</th>\n",
       "      <th>total_text</th>\n",
       "    </tr>\n",
       "  </thead>\n",
       "  <tbody>\n",
       "    <tr>\n",
       "      <th>0</th>\n",
       "      <td>0</td>\n",
       "      <td>This is one of my favorite books. I remember r...</td>\n",
       "      <td>A Wizard of Earthsea</td>\n",
       "      <td>A Wizard of Earthsea This is one of my favorit...</td>\n",
       "    </tr>\n",
       "    <tr>\n",
       "      <th>1</th>\n",
       "      <td>0</td>\n",
       "      <td>George Orwell sees writers as having only four...</td>\n",
       "      <td>Just Read George Orwell's 'Why I Write'</td>\n",
       "      <td>Just Read George Orwell's 'Why I Write' George...</td>\n",
       "    </tr>\n",
       "    <tr>\n",
       "      <th>2</th>\n",
       "      <td>0</td>\n",
       "      <td>With the prevalance of various forms of multi...</td>\n",
       "      <td>Books are an underrated way of learning langua...</td>\n",
       "      <td>Books are an underrated way of learning langua...</td>\n",
       "    </tr>\n",
       "    <tr>\n",
       "      <th>3</th>\n",
       "      <td>0</td>\n",
       "      <td>With the prevalance of various forms of multi...</td>\n",
       "      <td>Books are an underrated way of learning langua...</td>\n",
       "      <td>Books are an underrated way of learning langua...</td>\n",
       "    </tr>\n",
       "    <tr>\n",
       "      <th>4</th>\n",
       "      <td>0</td>\n",
       "      <td>I just finished reading On Juneteenth by Annet...</td>\n",
       "      <td>The Hub is Proud to Promote the Green Juneteen...</td>\n",
       "      <td>The Hub is Proud to Promote the Green Juneteen...</td>\n",
       "    </tr>\n",
       "    <tr>\n",
       "      <th>...</th>\n",
       "      <td>...</td>\n",
       "      <td>...</td>\n",
       "      <td>...</td>\n",
       "      <td>...</td>\n",
       "    </tr>\n",
       "    <tr>\n",
       "      <th>3010</th>\n",
       "      <td>1</td>\n",
       "      <td>Hope y'all will indulge me, because I'm pretty...</td>\n",
       "      <td>Finally self-published my collection of weird ...</td>\n",
       "      <td>Finally self-published my collection of weird ...</td>\n",
       "    </tr>\n",
       "    <tr>\n",
       "      <th>3011</th>\n",
       "      <td>1</td>\n",
       "      <td>After u/JeremySzal and u/SteveAryan's excellen...</td>\n",
       "      <td>There And Back Again, A Writer's Journey</td>\n",
       "      <td>There And Back Again, A Writer's Journey After...</td>\n",
       "    </tr>\n",
       "    <tr>\n",
       "      <th>3012</th>\n",
       "      <td>1</td>\n",
       "      <td>A partner piece to **'The Art of the deal: How...</td>\n",
       "      <td>How I Found an Agent (and then a publisher wit...</td>\n",
       "      <td>How I Found an Agent (and then a publisher wit...</td>\n",
       "    </tr>\n",
       "    <tr>\n",
       "      <th>3013</th>\n",
       "      <td>1</td>\n",
       "      <td>I was wondering if anybody knew of any fantasy...</td>\n",
       "      <td>Scandinavian/Viking based fantasy stories?</td>\n",
       "      <td>Scandinavian/Viking based fantasy stories? I w...</td>\n",
       "    </tr>\n",
       "    <tr>\n",
       "      <th>3014</th>\n",
       "      <td>1</td>\n",
       "      <td>Looking for books with a lot of romance with v...</td>\n",
       "      <td>Looking for vampire romance books</td>\n",
       "      <td>Looking for vampire romance books Looking for ...</td>\n",
       "    </tr>\n",
       "  </tbody>\n",
       "</table>\n",
       "<p>3015 rows × 4 columns</p>\n",
       "</div>"
      ],
      "text/plain": [
       "      subreddit                                           selftext  \\\n",
       "0             0  This is one of my favorite books. I remember r...   \n",
       "1             0  George Orwell sees writers as having only four...   \n",
       "2             0   With the prevalance of various forms of multi...   \n",
       "3             0   With the prevalance of various forms of multi...   \n",
       "4             0  I just finished reading On Juneteenth by Annet...   \n",
       "...         ...                                                ...   \n",
       "3010          1  Hope y'all will indulge me, because I'm pretty...   \n",
       "3011          1  After u/JeremySzal and u/SteveAryan's excellen...   \n",
       "3012          1  A partner piece to **'The Art of the deal: How...   \n",
       "3013          1  I was wondering if anybody knew of any fantasy...   \n",
       "3014          1  Looking for books with a lot of romance with v...   \n",
       "\n",
       "                                                  title  \\\n",
       "0                                  A Wizard of Earthsea   \n",
       "1               Just Read George Orwell's 'Why I Write'   \n",
       "2     Books are an underrated way of learning langua...   \n",
       "3     Books are an underrated way of learning langua...   \n",
       "4     The Hub is Proud to Promote the Green Juneteen...   \n",
       "...                                                 ...   \n",
       "3010  Finally self-published my collection of weird ...   \n",
       "3011           There And Back Again, A Writer's Journey   \n",
       "3012  How I Found an Agent (and then a publisher wit...   \n",
       "3013         Scandinavian/Viking based fantasy stories?   \n",
       "3014                  Looking for vampire romance books   \n",
       "\n",
       "                                             total_text  \n",
       "0     A Wizard of Earthsea This is one of my favorit...  \n",
       "1     Just Read George Orwell's 'Why I Write' George...  \n",
       "2     Books are an underrated way of learning langua...  \n",
       "3     Books are an underrated way of learning langua...  \n",
       "4     The Hub is Proud to Promote the Green Juneteen...  \n",
       "...                                                 ...  \n",
       "3010  Finally self-published my collection of weird ...  \n",
       "3011  There And Back Again, A Writer's Journey After...  \n",
       "3012  How I Found an Agent (and then a publisher wit...  \n",
       "3013  Scandinavian/Viking based fantasy stories? I w...  \n",
       "3014  Looking for vampire romance books Looking for ...  \n",
       "\n",
       "[3015 rows x 4 columns]"
      ]
     },
     "execution_count": 5,
     "metadata": {},
     "output_type": "execute_result"
    }
   ],
   "source": [
    "# combine title and selftextvalues into one column\n",
    "books_data['total_text'] = books_data['title'] + ' ' + books_data['selftext']\n",
    "fantasy_data['total_text'] = fantasy_data['title'] + ' ' + fantasy_data['selftext']\n",
    "total_data['total_text'] = total_data['title'] + ' ' + total_data['selftext']\n",
    "total_data"
   ]
  },
  {
   "cell_type": "code",
   "execution_count": 6,
   "id": "3a461e42-afff-4b5e-b970-450c772fb8e1",
   "metadata": {},
   "outputs": [
    {
     "name": "stdout",
     "output_type": "stream",
     "text": [
      "['i', 'me', 'my', 'myself', 'we', 'our', 'ours', 'ourselves', 'you', \"you're\", \"you've\", \"you'll\", \"you'd\", 'your', 'yours', 'yourself', 'yourselves', 'he', 'him', 'his', 'himself', 'she', \"she's\", 'her', 'hers', 'herself', 'it', \"it's\", 'its', 'itself', 'they', 'them', 'their', 'theirs', 'themselves', 'what', 'which', 'who', 'whom', 'this', 'that', \"that'll\", 'these', 'those', 'am', 'is', 'are', 'was', 'were', 'be', 'been', 'being', 'have', 'has', 'had', 'having', 'do', 'does', 'did', 'doing', 'a', 'an', 'the', 'and', 'but', 'if', 'or', 'because', 'as', 'until', 'while', 'of', 'at', 'by', 'for', 'with', 'about', 'against', 'between', 'into', 'through', 'during', 'before', 'after', 'above', 'below', 'to', 'from', 'up', 'down', 'in', 'out', 'on', 'off', 'over', 'under', 'again', 'further', 'then', 'once', 'here', 'there', 'when', 'where', 'why', 'how', 'all', 'any', 'both', 'each', 'few', 'more', 'most', 'other', 'some', 'such', 'no', 'nor', 'not', 'only', 'own', 'same', 'so', 'than', 'too', 'very', 's', 't', 'can', 'will', 'just', 'don', \"don't\", 'should', \"should've\", 'now', 'd', 'll', 'm', 'o', 're', 've', 'y', 'ain', 'aren', \"aren't\", 'couldn', \"couldn't\", 'didn', \"didn't\", 'doesn', \"doesn't\", 'hadn', \"hadn't\", 'hasn', \"hasn't\", 'haven', \"haven't\", 'isn', \"isn't\", 'ma', 'mightn', \"mightn't\", 'mustn', \"mustn't\", 'needn', \"needn't\", 'shan', \"shan't\", 'shouldn', \"shouldn't\", 'wasn', \"wasn't\", 'weren', \"weren't\", 'won', \"won't\", 'wouldn', \"wouldn't\", 'book', 'books', 'cuckholdry']\n"
     ]
    }
   ],
   "source": [
    "import nltk\n",
    "stopwords = nltk.corpus.stopwords.words('english')\n",
    "new_words=('book', 'books', 'cuckholdry')\n",
    "for i in new_words:\n",
    "    stopwords.append(i)\n",
    "print(stopwords)"
   ]
  },
  {
   "cell_type": "markdown",
   "id": "83af9c17-1a10-4328-969c-f0e67253f3eb",
   "metadata": {},
   "source": [
    "---\n",
    "### CountVectorizer on Books Data"
   ]
  },
  {
   "cell_type": "code",
   "execution_count": 7,
   "id": "4d39c87b-1861-4a11-8738-66da19225c83",
   "metadata": {},
   "outputs": [],
   "source": [
    "# countvectorize books data\n",
    "X = books_data['title']\n",
    "y = books_data['subreddit']"
   ]
  },
  {
   "cell_type": "code",
   "execution_count": 8,
   "id": "795ace5b-1562-4774-9aef-57a0e6e0b44f",
   "metadata": {},
   "outputs": [],
   "source": [
    "cvec = CountVectorizer(stop_words = stopwords, ngram_range = (1,2))\n",
    "cvec.fit(X)\n",
    "X = cvec.transform(X)"
   ]
  },
  {
   "cell_type": "code",
   "execution_count": 9,
   "id": "5c8a40a0-4669-41fb-a114-35eccbb3a178",
   "metadata": {},
   "outputs": [
    {
     "name": "stderr",
     "output_type": "stream",
     "text": [
      "C:\\Users\\sbhew\\anaconda3\\envs\\dsi\\lib\\site-packages\\sklearn\\utils\\deprecation.py:87: FutureWarning: Function get_feature_names is deprecated; get_feature_names is deprecated in 1.0 and will be removed in 1.2. Please use get_feature_names_out instead.\n",
      "  warnings.warn(msg, category=FutureWarning)\n"
     ]
    },
    {
     "data": {
      "text/html": [
       "<div>\n",
       "<style scoped>\n",
       "    .dataframe tbody tr th:only-of-type {\n",
       "        vertical-align: middle;\n",
       "    }\n",
       "\n",
       "    .dataframe tbody tr th {\n",
       "        vertical-align: top;\n",
       "    }\n",
       "\n",
       "    .dataframe thead th {\n",
       "        text-align: right;\n",
       "    }\n",
       "</style>\n",
       "<table border=\"1\" class=\"dataframe\">\n",
       "  <thead>\n",
       "    <tr style=\"text-align: right;\">\n",
       "      <th></th>\n",
       "      <th>02</th>\n",
       "      <th>02 aug</th>\n",
       "      <th>02 madame</th>\n",
       "      <th>03</th>\n",
       "      <th>03 02</th>\n",
       "      <th>10</th>\n",
       "      <th>10 2020</th>\n",
       "      <th>10 famous</th>\n",
       "      <th>10 realized</th>\n",
       "      <th>10 reasons</th>\n",
       "      <th>...</th>\n",
       "      <th>zoet</th>\n",
       "      <th>zoet david</th>\n",
       "      <th>zookeeper</th>\n",
       "      <th>zookeeper wife</th>\n",
       "      <th>zorba</th>\n",
       "      <th>zorba greek</th>\n",
       "      <th>zsigmond</th>\n",
       "      <th>zsigmond móricz</th>\n",
       "      <th>âme</th>\n",
       "      <th>âme ending</th>\n",
       "    </tr>\n",
       "  </thead>\n",
       "  <tbody>\n",
       "    <tr>\n",
       "      <th>0</th>\n",
       "      <td>0</td>\n",
       "      <td>0</td>\n",
       "      <td>0</td>\n",
       "      <td>0</td>\n",
       "      <td>0</td>\n",
       "      <td>0</td>\n",
       "      <td>0</td>\n",
       "      <td>0</td>\n",
       "      <td>0</td>\n",
       "      <td>0</td>\n",
       "      <td>...</td>\n",
       "      <td>0</td>\n",
       "      <td>0</td>\n",
       "      <td>0</td>\n",
       "      <td>0</td>\n",
       "      <td>0</td>\n",
       "      <td>0</td>\n",
       "      <td>0</td>\n",
       "      <td>0</td>\n",
       "      <td>0</td>\n",
       "      <td>0</td>\n",
       "    </tr>\n",
       "    <tr>\n",
       "      <th>1</th>\n",
       "      <td>0</td>\n",
       "      <td>0</td>\n",
       "      <td>0</td>\n",
       "      <td>0</td>\n",
       "      <td>0</td>\n",
       "      <td>0</td>\n",
       "      <td>0</td>\n",
       "      <td>0</td>\n",
       "      <td>0</td>\n",
       "      <td>0</td>\n",
       "      <td>...</td>\n",
       "      <td>0</td>\n",
       "      <td>0</td>\n",
       "      <td>0</td>\n",
       "      <td>0</td>\n",
       "      <td>0</td>\n",
       "      <td>0</td>\n",
       "      <td>0</td>\n",
       "      <td>0</td>\n",
       "      <td>0</td>\n",
       "      <td>0</td>\n",
       "    </tr>\n",
       "    <tr>\n",
       "      <th>2</th>\n",
       "      <td>0</td>\n",
       "      <td>0</td>\n",
       "      <td>0</td>\n",
       "      <td>0</td>\n",
       "      <td>0</td>\n",
       "      <td>0</td>\n",
       "      <td>0</td>\n",
       "      <td>0</td>\n",
       "      <td>0</td>\n",
       "      <td>0</td>\n",
       "      <td>...</td>\n",
       "      <td>0</td>\n",
       "      <td>0</td>\n",
       "      <td>0</td>\n",
       "      <td>0</td>\n",
       "      <td>0</td>\n",
       "      <td>0</td>\n",
       "      <td>0</td>\n",
       "      <td>0</td>\n",
       "      <td>0</td>\n",
       "      <td>0</td>\n",
       "    </tr>\n",
       "    <tr>\n",
       "      <th>3</th>\n",
       "      <td>0</td>\n",
       "      <td>0</td>\n",
       "      <td>0</td>\n",
       "      <td>0</td>\n",
       "      <td>0</td>\n",
       "      <td>0</td>\n",
       "      <td>0</td>\n",
       "      <td>0</td>\n",
       "      <td>0</td>\n",
       "      <td>0</td>\n",
       "      <td>...</td>\n",
       "      <td>0</td>\n",
       "      <td>0</td>\n",
       "      <td>0</td>\n",
       "      <td>0</td>\n",
       "      <td>0</td>\n",
       "      <td>0</td>\n",
       "      <td>0</td>\n",
       "      <td>0</td>\n",
       "      <td>0</td>\n",
       "      <td>0</td>\n",
       "    </tr>\n",
       "    <tr>\n",
       "      <th>4</th>\n",
       "      <td>0</td>\n",
       "      <td>0</td>\n",
       "      <td>0</td>\n",
       "      <td>0</td>\n",
       "      <td>0</td>\n",
       "      <td>0</td>\n",
       "      <td>0</td>\n",
       "      <td>0</td>\n",
       "      <td>0</td>\n",
       "      <td>0</td>\n",
       "      <td>...</td>\n",
       "      <td>0</td>\n",
       "      <td>0</td>\n",
       "      <td>0</td>\n",
       "      <td>0</td>\n",
       "      <td>0</td>\n",
       "      <td>0</td>\n",
       "      <td>0</td>\n",
       "      <td>0</td>\n",
       "      <td>0</td>\n",
       "      <td>0</td>\n",
       "    </tr>\n",
       "    <tr>\n",
       "      <th>...</th>\n",
       "      <td>...</td>\n",
       "      <td>...</td>\n",
       "      <td>...</td>\n",
       "      <td>...</td>\n",
       "      <td>...</td>\n",
       "      <td>...</td>\n",
       "      <td>...</td>\n",
       "      <td>...</td>\n",
       "      <td>...</td>\n",
       "      <td>...</td>\n",
       "      <td>...</td>\n",
       "      <td>...</td>\n",
       "      <td>...</td>\n",
       "      <td>...</td>\n",
       "      <td>...</td>\n",
       "      <td>...</td>\n",
       "      <td>...</td>\n",
       "      <td>...</td>\n",
       "      <td>...</td>\n",
       "      <td>...</td>\n",
       "      <td>...</td>\n",
       "    </tr>\n",
       "    <tr>\n",
       "      <th>1468</th>\n",
       "      <td>0</td>\n",
       "      <td>0</td>\n",
       "      <td>0</td>\n",
       "      <td>0</td>\n",
       "      <td>0</td>\n",
       "      <td>0</td>\n",
       "      <td>0</td>\n",
       "      <td>0</td>\n",
       "      <td>0</td>\n",
       "      <td>0</td>\n",
       "      <td>...</td>\n",
       "      <td>0</td>\n",
       "      <td>0</td>\n",
       "      <td>0</td>\n",
       "      <td>0</td>\n",
       "      <td>0</td>\n",
       "      <td>0</td>\n",
       "      <td>0</td>\n",
       "      <td>0</td>\n",
       "      <td>0</td>\n",
       "      <td>0</td>\n",
       "    </tr>\n",
       "    <tr>\n",
       "      <th>1469</th>\n",
       "      <td>0</td>\n",
       "      <td>0</td>\n",
       "      <td>0</td>\n",
       "      <td>0</td>\n",
       "      <td>0</td>\n",
       "      <td>0</td>\n",
       "      <td>0</td>\n",
       "      <td>0</td>\n",
       "      <td>0</td>\n",
       "      <td>0</td>\n",
       "      <td>...</td>\n",
       "      <td>0</td>\n",
       "      <td>0</td>\n",
       "      <td>0</td>\n",
       "      <td>0</td>\n",
       "      <td>0</td>\n",
       "      <td>0</td>\n",
       "      <td>0</td>\n",
       "      <td>0</td>\n",
       "      <td>0</td>\n",
       "      <td>0</td>\n",
       "    </tr>\n",
       "    <tr>\n",
       "      <th>1470</th>\n",
       "      <td>0</td>\n",
       "      <td>0</td>\n",
       "      <td>0</td>\n",
       "      <td>0</td>\n",
       "      <td>0</td>\n",
       "      <td>0</td>\n",
       "      <td>0</td>\n",
       "      <td>0</td>\n",
       "      <td>0</td>\n",
       "      <td>0</td>\n",
       "      <td>...</td>\n",
       "      <td>0</td>\n",
       "      <td>0</td>\n",
       "      <td>0</td>\n",
       "      <td>0</td>\n",
       "      <td>0</td>\n",
       "      <td>0</td>\n",
       "      <td>0</td>\n",
       "      <td>0</td>\n",
       "      <td>0</td>\n",
       "      <td>0</td>\n",
       "    </tr>\n",
       "    <tr>\n",
       "      <th>1471</th>\n",
       "      <td>0</td>\n",
       "      <td>0</td>\n",
       "      <td>0</td>\n",
       "      <td>0</td>\n",
       "      <td>0</td>\n",
       "      <td>0</td>\n",
       "      <td>0</td>\n",
       "      <td>0</td>\n",
       "      <td>0</td>\n",
       "      <td>0</td>\n",
       "      <td>...</td>\n",
       "      <td>0</td>\n",
       "      <td>0</td>\n",
       "      <td>0</td>\n",
       "      <td>0</td>\n",
       "      <td>0</td>\n",
       "      <td>0</td>\n",
       "      <td>0</td>\n",
       "      <td>0</td>\n",
       "      <td>0</td>\n",
       "      <td>0</td>\n",
       "    </tr>\n",
       "    <tr>\n",
       "      <th>1472</th>\n",
       "      <td>0</td>\n",
       "      <td>0</td>\n",
       "      <td>0</td>\n",
       "      <td>0</td>\n",
       "      <td>0</td>\n",
       "      <td>0</td>\n",
       "      <td>0</td>\n",
       "      <td>0</td>\n",
       "      <td>0</td>\n",
       "      <td>0</td>\n",
       "      <td>...</td>\n",
       "      <td>0</td>\n",
       "      <td>0</td>\n",
       "      <td>0</td>\n",
       "      <td>0</td>\n",
       "      <td>0</td>\n",
       "      <td>0</td>\n",
       "      <td>0</td>\n",
       "      <td>0</td>\n",
       "      <td>0</td>\n",
       "      <td>0</td>\n",
       "    </tr>\n",
       "  </tbody>\n",
       "</table>\n",
       "<p>1473 rows × 9863 columns</p>\n",
       "</div>"
      ],
      "text/plain": [
       "      02  02 aug  02 madame  03  03 02  10  10 2020  10 famous  10 realized  \\\n",
       "0      0       0          0   0      0   0        0          0            0   \n",
       "1      0       0          0   0      0   0        0          0            0   \n",
       "2      0       0          0   0      0   0        0          0            0   \n",
       "3      0       0          0   0      0   0        0          0            0   \n",
       "4      0       0          0   0      0   0        0          0            0   \n",
       "...   ..     ...        ...  ..    ...  ..      ...        ...          ...   \n",
       "1468   0       0          0   0      0   0        0          0            0   \n",
       "1469   0       0          0   0      0   0        0          0            0   \n",
       "1470   0       0          0   0      0   0        0          0            0   \n",
       "1471   0       0          0   0      0   0        0          0            0   \n",
       "1472   0       0          0   0      0   0        0          0            0   \n",
       "\n",
       "      10 reasons  ...  zoet  zoet david  zookeeper  zookeeper wife  zorba  \\\n",
       "0              0  ...     0           0          0               0      0   \n",
       "1              0  ...     0           0          0               0      0   \n",
       "2              0  ...     0           0          0               0      0   \n",
       "3              0  ...     0           0          0               0      0   \n",
       "4              0  ...     0           0          0               0      0   \n",
       "...          ...  ...   ...         ...        ...             ...    ...   \n",
       "1468           0  ...     0           0          0               0      0   \n",
       "1469           0  ...     0           0          0               0      0   \n",
       "1470           0  ...     0           0          0               0      0   \n",
       "1471           0  ...     0           0          0               0      0   \n",
       "1472           0  ...     0           0          0               0      0   \n",
       "\n",
       "      zorba greek  zsigmond  zsigmond móricz  âme  âme ending  \n",
       "0               0         0                0    0           0  \n",
       "1               0         0                0    0           0  \n",
       "2               0         0                0    0           0  \n",
       "3               0         0                0    0           0  \n",
       "4               0         0                0    0           0  \n",
       "...           ...       ...              ...  ...         ...  \n",
       "1468            0         0                0    0           0  \n",
       "1469            0         0                0    0           0  \n",
       "1470            0         0                0    0           0  \n",
       "1471            0         0                0    0           0  \n",
       "1472            0         0                0    0           0  \n",
       "\n",
       "[1473 rows x 9863 columns]"
      ]
     },
     "execution_count": 9,
     "metadata": {},
     "output_type": "execute_result"
    }
   ],
   "source": [
    "books_df = pd.DataFrame(X.todense(), # 'densified' the transformed data\n",
    "                        columns = cvec.get_feature_names())\n",
    "                        # get_feature_names on fitted cvec gets words learned from dataset based on 'columns'\n",
    "\n",
    "books_df"
   ]
  },
  {
   "cell_type": "code",
   "execution_count": 120,
   "id": "68b28499-90be-4f21-9796-1dc173642a88",
   "metadata": {},
   "outputs": [
    {
     "data": {
      "image/png": "[encoded data removed]",
      "text/plain": [
       "<Figure size 432x288 with 1 Axes>"
      ]
     },
     "metadata": {
      "needs_background": "light"
     },
     "output_type": "display_data"
    }
   ],
   "source": [
    "books_df.sum().T.sort_values(ascending = True).tail(20).plot.barh()\n",
    "plt.title('Common Unigrams of r/books');"
   ]
  },
  {
   "cell_type": "code",
   "execution_count": 127,
   "id": "05f49255-a764-4c0e-a494-c41e4545cf46",
   "metadata": {},
   "outputs": [
    {
     "name": "stderr",
     "output_type": "stream",
     "text": [
      "C:\\Users\\sbhew\\anaconda3\\envs\\dsi\\lib\\site-packages\\sklearn\\utils\\deprecation.py:87: FutureWarning: Function get_feature_names is deprecated; get_feature_names is deprecated in 1.0 and will be removed in 1.2. Please use get_feature_names_out instead.\n",
      "  warnings.warn(msg, category=FutureWarning)\n"
     ]
    },
    {
     "data": {
      "image/png": "[encoded data removed]",
      "text/plain": [
       "<Figure size 432x288 with 1 Axes>"
      ]
     },
     "metadata": {
      "needs_background": "light"
     },
     "output_type": "display_data"
    }
   ],
   "source": [
    "# countvectorize books data \n",
    "X = books_data['title']\n",
    "y = books_data['subreddit']\n",
    "\n",
    "# bigrams only\n",
    "cvec = CountVectorizer(stop_words = stopwords, ngram_range = (2,2))\n",
    "cvec.fit(X)\n",
    "X = cvec.transform(X)\n",
    "\n",
    "books_df = pd.DataFrame(X.todense(), # 'densified' the transformed data\n",
    "                        columns = cvec.get_feature_names())\n",
    "                        # get_feature_names on fitted cvec gets words learned from dataset based on 'columns'\n",
    "\n",
    "books_df.sum().T.sort_values(ascending = True).tail(20).plot.barh()\n",
    "plt.title('Most Common Bigrams of r/books');"
   ]
  },
  {
   "cell_type": "markdown",
   "id": "c828d6eb-4940-4f17-9ab8-6a3a9aeb12a5",
   "metadata": {},
   "source": [
    "---\n",
    "### CountVectorizer on Fantasy Data"
   ]
  },
  {
   "cell_type": "code",
   "execution_count": 12,
   "id": "c52b7b06-963d-400e-9266-b8827fcc1319",
   "metadata": {},
   "outputs": [],
   "source": [
    "# countvectorize books data\n",
    "X = fantasy_data['title']\n",
    "y = fantasy_data['subreddit']"
   ]
  },
  {
   "cell_type": "code",
   "execution_count": 13,
   "id": "5b2db938-bef2-4d0e-b09d-564fdc12d3ab",
   "metadata": {},
   "outputs": [],
   "source": [
    "cvec = CountVectorizer(stop_words = stopwords, ngram_range = (1,2))\n",
    "cvec.fit(X)\n",
    "X = cvec.transform(X)"
   ]
  },
  {
   "cell_type": "code",
   "execution_count": 14,
   "id": "d9140478-d87a-4154-b3a9-69de9b3ed243",
   "metadata": {},
   "outputs": [
    {
     "name": "stderr",
     "output_type": "stream",
     "text": [
      "C:\\Users\\sbhew\\anaconda3\\envs\\dsi\\lib\\site-packages\\sklearn\\utils\\deprecation.py:87: FutureWarning: Function get_feature_names is deprecated; get_feature_names is deprecated in 1.0 and will be removed in 1.2. Please use get_feature_names_out instead.\n",
      "  warnings.warn(msg, category=FutureWarning)\n"
     ]
    },
    {
     "data": {
      "text/html": [
       "<div>\n",
       "<style scoped>\n",
       "    .dataframe tbody tr th:only-of-type {\n",
       "        vertical-align: middle;\n",
       "    }\n",
       "\n",
       "    .dataframe tbody tr th {\n",
       "        vertical-align: top;\n",
       "    }\n",
       "\n",
       "    .dataframe thead th {\n",
       "        text-align: right;\n",
       "    }\n",
       "</style>\n",
       "<table border=\"1\" class=\"dataframe\">\n",
       "  <thead>\n",
       "    <tr style=\"text-align: right;\">\n",
       "      <th></th>\n",
       "      <th>06</th>\n",
       "      <th>06 2020</th>\n",
       "      <th>10</th>\n",
       "      <th>10 2020</th>\n",
       "      <th>10 cradle</th>\n",
       "      <th>10 middle</th>\n",
       "      <th>10 questions</th>\n",
       "      <th>10 sff</th>\n",
       "      <th>10 short</th>\n",
       "      <th>100</th>\n",
       "      <th>...</th>\n",
       "      <th>zetta</th>\n",
       "      <th>zetta elliot</th>\n",
       "      <th>zhao</th>\n",
       "      <th>zoe</th>\n",
       "      <th>zoe reed</th>\n",
       "      <th>zone</th>\n",
       "      <th>zone series</th>\n",
       "      <th>zoroastrianism</th>\n",
       "      <th>zárate</th>\n",
       "      <th>zárate latinx</th>\n",
       "    </tr>\n",
       "  </thead>\n",
       "  <tbody>\n",
       "    <tr>\n",
       "      <th>0</th>\n",
       "      <td>0</td>\n",
       "      <td>0</td>\n",
       "      <td>0</td>\n",
       "      <td>0</td>\n",
       "      <td>0</td>\n",
       "      <td>0</td>\n",
       "      <td>0</td>\n",
       "      <td>0</td>\n",
       "      <td>0</td>\n",
       "      <td>0</td>\n",
       "      <td>...</td>\n",
       "      <td>0</td>\n",
       "      <td>0</td>\n",
       "      <td>0</td>\n",
       "      <td>0</td>\n",
       "      <td>0</td>\n",
       "      <td>0</td>\n",
       "      <td>0</td>\n",
       "      <td>0</td>\n",
       "      <td>0</td>\n",
       "      <td>0</td>\n",
       "    </tr>\n",
       "    <tr>\n",
       "      <th>1</th>\n",
       "      <td>0</td>\n",
       "      <td>0</td>\n",
       "      <td>0</td>\n",
       "      <td>0</td>\n",
       "      <td>0</td>\n",
       "      <td>0</td>\n",
       "      <td>0</td>\n",
       "      <td>0</td>\n",
       "      <td>0</td>\n",
       "      <td>0</td>\n",
       "      <td>...</td>\n",
       "      <td>0</td>\n",
       "      <td>0</td>\n",
       "      <td>0</td>\n",
       "      <td>0</td>\n",
       "      <td>0</td>\n",
       "      <td>0</td>\n",
       "      <td>0</td>\n",
       "      <td>0</td>\n",
       "      <td>0</td>\n",
       "      <td>0</td>\n",
       "    </tr>\n",
       "    <tr>\n",
       "      <th>2</th>\n",
       "      <td>0</td>\n",
       "      <td>0</td>\n",
       "      <td>0</td>\n",
       "      <td>0</td>\n",
       "      <td>0</td>\n",
       "      <td>0</td>\n",
       "      <td>0</td>\n",
       "      <td>0</td>\n",
       "      <td>0</td>\n",
       "      <td>0</td>\n",
       "      <td>...</td>\n",
       "      <td>0</td>\n",
       "      <td>0</td>\n",
       "      <td>0</td>\n",
       "      <td>0</td>\n",
       "      <td>0</td>\n",
       "      <td>0</td>\n",
       "      <td>0</td>\n",
       "      <td>0</td>\n",
       "      <td>0</td>\n",
       "      <td>0</td>\n",
       "    </tr>\n",
       "    <tr>\n",
       "      <th>3</th>\n",
       "      <td>0</td>\n",
       "      <td>0</td>\n",
       "      <td>0</td>\n",
       "      <td>0</td>\n",
       "      <td>0</td>\n",
       "      <td>0</td>\n",
       "      <td>0</td>\n",
       "      <td>0</td>\n",
       "      <td>0</td>\n",
       "      <td>0</td>\n",
       "      <td>...</td>\n",
       "      <td>0</td>\n",
       "      <td>0</td>\n",
       "      <td>0</td>\n",
       "      <td>0</td>\n",
       "      <td>0</td>\n",
       "      <td>0</td>\n",
       "      <td>0</td>\n",
       "      <td>0</td>\n",
       "      <td>0</td>\n",
       "      <td>0</td>\n",
       "    </tr>\n",
       "    <tr>\n",
       "      <th>4</th>\n",
       "      <td>0</td>\n",
       "      <td>0</td>\n",
       "      <td>0</td>\n",
       "      <td>0</td>\n",
       "      <td>0</td>\n",
       "      <td>0</td>\n",
       "      <td>0</td>\n",
       "      <td>0</td>\n",
       "      <td>0</td>\n",
       "      <td>0</td>\n",
       "      <td>...</td>\n",
       "      <td>0</td>\n",
       "      <td>0</td>\n",
       "      <td>0</td>\n",
       "      <td>0</td>\n",
       "      <td>0</td>\n",
       "      <td>0</td>\n",
       "      <td>0</td>\n",
       "      <td>0</td>\n",
       "      <td>0</td>\n",
       "      <td>0</td>\n",
       "    </tr>\n",
       "    <tr>\n",
       "      <th>...</th>\n",
       "      <td>...</td>\n",
       "      <td>...</td>\n",
       "      <td>...</td>\n",
       "      <td>...</td>\n",
       "      <td>...</td>\n",
       "      <td>...</td>\n",
       "      <td>...</td>\n",
       "      <td>...</td>\n",
       "      <td>...</td>\n",
       "      <td>...</td>\n",
       "      <td>...</td>\n",
       "      <td>...</td>\n",
       "      <td>...</td>\n",
       "      <td>...</td>\n",
       "      <td>...</td>\n",
       "      <td>...</td>\n",
       "      <td>...</td>\n",
       "      <td>...</td>\n",
       "      <td>...</td>\n",
       "      <td>...</td>\n",
       "      <td>...</td>\n",
       "    </tr>\n",
       "    <tr>\n",
       "      <th>1537</th>\n",
       "      <td>0</td>\n",
       "      <td>0</td>\n",
       "      <td>0</td>\n",
       "      <td>0</td>\n",
       "      <td>0</td>\n",
       "      <td>0</td>\n",
       "      <td>0</td>\n",
       "      <td>0</td>\n",
       "      <td>0</td>\n",
       "      <td>0</td>\n",
       "      <td>...</td>\n",
       "      <td>0</td>\n",
       "      <td>0</td>\n",
       "      <td>0</td>\n",
       "      <td>0</td>\n",
       "      <td>0</td>\n",
       "      <td>0</td>\n",
       "      <td>0</td>\n",
       "      <td>0</td>\n",
       "      <td>0</td>\n",
       "      <td>0</td>\n",
       "    </tr>\n",
       "    <tr>\n",
       "      <th>1538</th>\n",
       "      <td>0</td>\n",
       "      <td>0</td>\n",
       "      <td>0</td>\n",
       "      <td>0</td>\n",
       "      <td>0</td>\n",
       "      <td>0</td>\n",
       "      <td>0</td>\n",
       "      <td>0</td>\n",
       "      <td>0</td>\n",
       "      <td>0</td>\n",
       "      <td>...</td>\n",
       "      <td>0</td>\n",
       "      <td>0</td>\n",
       "      <td>0</td>\n",
       "      <td>0</td>\n",
       "      <td>0</td>\n",
       "      <td>0</td>\n",
       "      <td>0</td>\n",
       "      <td>0</td>\n",
       "      <td>0</td>\n",
       "      <td>0</td>\n",
       "    </tr>\n",
       "    <tr>\n",
       "      <th>1539</th>\n",
       "      <td>0</td>\n",
       "      <td>0</td>\n",
       "      <td>0</td>\n",
       "      <td>0</td>\n",
       "      <td>0</td>\n",
       "      <td>0</td>\n",
       "      <td>0</td>\n",
       "      <td>0</td>\n",
       "      <td>0</td>\n",
       "      <td>0</td>\n",
       "      <td>...</td>\n",
       "      <td>0</td>\n",
       "      <td>0</td>\n",
       "      <td>0</td>\n",
       "      <td>0</td>\n",
       "      <td>0</td>\n",
       "      <td>0</td>\n",
       "      <td>0</td>\n",
       "      <td>0</td>\n",
       "      <td>0</td>\n",
       "      <td>0</td>\n",
       "    </tr>\n",
       "    <tr>\n",
       "      <th>1540</th>\n",
       "      <td>0</td>\n",
       "      <td>0</td>\n",
       "      <td>0</td>\n",
       "      <td>0</td>\n",
       "      <td>0</td>\n",
       "      <td>0</td>\n",
       "      <td>0</td>\n",
       "      <td>0</td>\n",
       "      <td>0</td>\n",
       "      <td>0</td>\n",
       "      <td>...</td>\n",
       "      <td>0</td>\n",
       "      <td>0</td>\n",
       "      <td>0</td>\n",
       "      <td>0</td>\n",
       "      <td>0</td>\n",
       "      <td>0</td>\n",
       "      <td>0</td>\n",
       "      <td>0</td>\n",
       "      <td>0</td>\n",
       "      <td>0</td>\n",
       "    </tr>\n",
       "    <tr>\n",
       "      <th>1541</th>\n",
       "      <td>0</td>\n",
       "      <td>0</td>\n",
       "      <td>0</td>\n",
       "      <td>0</td>\n",
       "      <td>0</td>\n",
       "      <td>0</td>\n",
       "      <td>0</td>\n",
       "      <td>0</td>\n",
       "      <td>0</td>\n",
       "      <td>0</td>\n",
       "      <td>...</td>\n",
       "      <td>0</td>\n",
       "      <td>0</td>\n",
       "      <td>0</td>\n",
       "      <td>0</td>\n",
       "      <td>0</td>\n",
       "      <td>0</td>\n",
       "      <td>0</td>\n",
       "      <td>0</td>\n",
       "      <td>0</td>\n",
       "      <td>0</td>\n",
       "    </tr>\n",
       "  </tbody>\n",
       "</table>\n",
       "<p>1542 rows × 10420 columns</p>\n",
       "</div>"
      ],
      "text/plain": [
       "      06  06 2020  10  10 2020  10 cradle  10 middle  10 questions  10 sff  \\\n",
       "0      0        0   0        0          0          0             0       0   \n",
       "1      0        0   0        0          0          0             0       0   \n",
       "2      0        0   0        0          0          0             0       0   \n",
       "3      0        0   0        0          0          0             0       0   \n",
       "4      0        0   0        0          0          0             0       0   \n",
       "...   ..      ...  ..      ...        ...        ...           ...     ...   \n",
       "1537   0        0   0        0          0          0             0       0   \n",
       "1538   0        0   0        0          0          0             0       0   \n",
       "1539   0        0   0        0          0          0             0       0   \n",
       "1540   0        0   0        0          0          0             0       0   \n",
       "1541   0        0   0        0          0          0             0       0   \n",
       "\n",
       "      10 short  100  ...  zetta  zetta elliot  zhao  zoe  zoe reed  zone  \\\n",
       "0            0    0  ...      0             0     0    0         0     0   \n",
       "1            0    0  ...      0             0     0    0         0     0   \n",
       "2            0    0  ...      0             0     0    0         0     0   \n",
       "3            0    0  ...      0             0     0    0         0     0   \n",
       "4            0    0  ...      0             0     0    0         0     0   \n",
       "...        ...  ...  ...    ...           ...   ...  ...       ...   ...   \n",
       "1537         0    0  ...      0             0     0    0         0     0   \n",
       "1538         0    0  ...      0             0     0    0         0     0   \n",
       "1539         0    0  ...      0             0     0    0         0     0   \n",
       "1540         0    0  ...      0             0     0    0         0     0   \n",
       "1541         0    0  ...      0             0     0    0         0     0   \n",
       "\n",
       "      zone series  zoroastrianism  zárate  zárate latinx  \n",
       "0               0               0       0              0  \n",
       "1               0               0       0              0  \n",
       "2               0               0       0              0  \n",
       "3               0               0       0              0  \n",
       "4               0               0       0              0  \n",
       "...           ...             ...     ...            ...  \n",
       "1537            0               0       0              0  \n",
       "1538            0               0       0              0  \n",
       "1539            0               0       0              0  \n",
       "1540            0               0       0              0  \n",
       "1541            0               0       0              0  \n",
       "\n",
       "[1542 rows x 10420 columns]"
      ]
     },
     "execution_count": 14,
     "metadata": {},
     "output_type": "execute_result"
    }
   ],
   "source": [
    "fantasy_df = pd.DataFrame(X.todense(), # 'densified' the transformed data\n",
    "                          columns = cvec.get_feature_names())\n",
    "                          # get_feature_names on fitted cvec gets words learned from dataset based on 'columns'\n",
    "\n",
    "fantasy_df"
   ]
  },
  {
   "cell_type": "code",
   "execution_count": 15,
   "id": "6351494f-00b9-41e5-a22d-6ab0e750067a",
   "metadata": {},
   "outputs": [
    {
     "data": {
      "text/plain": [
       "review          323\n",
       "fantasy         280\n",
       "bingo           177\n",
       "reviews         119\n",
       "read             99\n",
       "series           80\n",
       "spoilers         72\n",
       "mini             63\n",
       "first            55\n",
       "discussion       54\n",
       "club             53\n",
       "mini reviews     52\n",
       "time             51\n",
       "reading          50\n",
       "2021             47\n",
       "amp              46\n",
       "2020             40\n",
       "trilogy          38\n",
       "finished         35\n",
       "new              35\n",
       "dtype: int64"
      ]
     },
     "execution_count": 15,
     "metadata": {},
     "output_type": "execute_result"
    }
   ],
   "source": [
    "fantasy_df.sum().T.sort_values(ascending = False).head(20)"
   ]
  },
  {
   "cell_type": "code",
   "execution_count": 125,
   "id": "d0d12875-4fe4-43df-a182-ac669de5837e",
   "metadata": {},
   "outputs": [
    {
     "data": {
      "image/png": "[encoded data removed]",
      "text/plain": [
       "<Figure size 432x288 with 1 Axes>"
      ]
     },
     "metadata": {
      "needs_background": "light"
     },
     "output_type": "display_data"
    }
   ],
   "source": [
    "fantasy_df.sum().T.sort_values(ascending = True).tail(20).plot.barh()\n",
    "plt.title('Most Common Unigrams of r/Fantasy');"
   ]
  },
  {
   "cell_type": "code",
   "execution_count": 124,
   "id": "8f96ede1-77bb-4dd2-88a7-cb7fcf52604d",
   "metadata": {},
   "outputs": [
    {
     "name": "stderr",
     "output_type": "stream",
     "text": [
      "C:\\Users\\sbhew\\anaconda3\\envs\\dsi\\lib\\site-packages\\sklearn\\utils\\deprecation.py:87: FutureWarning: Function get_feature_names is deprecated; get_feature_names is deprecated in 1.0 and will be removed in 1.2. Please use get_feature_names_out instead.\n",
      "  warnings.warn(msg, category=FutureWarning)\n"
     ]
    },
    {
     "data": {
      "image/png": "[encoded data removed]",
      "text/plain": [
       "<Figure size 432x288 with 1 Axes>"
      ]
     },
     "metadata": {
      "needs_background": "light"
     },
     "output_type": "display_data"
    }
   ],
   "source": [
    "# countvectorize books data \n",
    "X = fantasy_data['title']\n",
    "y = fantasy_data['subreddit']\n",
    "\n",
    "# bigrams only\n",
    "cvec = CountVectorizer(stop_words = stopwords, ngram_range = (2,2))\n",
    "cvec.fit(X)\n",
    "X = cvec.transform(X)\n",
    "\n",
    "fantasy_df = pd.DataFrame(X.todense(), # 'densified' the transformed data\n",
    "                           columns = cvec.get_feature_names())\n",
    "                           # get_feature_names on fitted cvec gets words learned from dataset based on 'columns'\n",
    "\n",
    "fantasy_df.sum().T.sort_values(ascending = True).tail(20).plot.barh()\n",
    "plt.title('Most Common Bigrams of r/Fantasy');"
   ]
  },
  {
   "cell_type": "markdown",
   "id": "1f2f0320-8739-4e3d-82e0-c7a4b990b15d",
   "metadata": {},
   "source": [
    "---\n",
    "### CountVectorizer on Combined Books & Fantasy Data"
   ]
  },
  {
   "cell_type": "code",
   "execution_count": 18,
   "id": "19ddd948-c7c2-438f-ae37-c271c9acdc7f",
   "metadata": {},
   "outputs": [],
   "source": [
    "# countvectorize total data\n",
    "X = total_data['title']\n",
    "y = total_data['subreddit']"
   ]
  },
  {
   "cell_type": "code",
   "execution_count": 19,
   "id": "c896c53f-6c09-4bc3-aab1-3da4901d8139",
   "metadata": {},
   "outputs": [],
   "source": [
    "cvec = CountVectorizer(stop_words = stopwords, ngram_range = (1,2))\n",
    "cvec.fit(X)\n",
    "X = cvec.transform(X)"
   ]
  },
  {
   "cell_type": "code",
   "execution_count": 20,
   "id": "bd4551a9-43b7-41c2-a671-18beeeced4bf",
   "metadata": {},
   "outputs": [
    {
     "name": "stderr",
     "output_type": "stream",
     "text": [
      "C:\\Users\\sbhew\\anaconda3\\envs\\dsi\\lib\\site-packages\\sklearn\\utils\\deprecation.py:87: FutureWarning: Function get_feature_names is deprecated; get_feature_names is deprecated in 1.0 and will be removed in 1.2. Please use get_feature_names_out instead.\n",
      "  warnings.warn(msg, category=FutureWarning)\n"
     ]
    },
    {
     "data": {
      "text/html": [
       "<div>\n",
       "<style scoped>\n",
       "    .dataframe tbody tr th:only-of-type {\n",
       "        vertical-align: middle;\n",
       "    }\n",
       "\n",
       "    .dataframe tbody tr th {\n",
       "        vertical-align: top;\n",
       "    }\n",
       "\n",
       "    .dataframe thead th {\n",
       "        text-align: right;\n",
       "    }\n",
       "</style>\n",
       "<table border=\"1\" class=\"dataframe\">\n",
       "  <thead>\n",
       "    <tr style=\"text-align: right;\">\n",
       "      <th></th>\n",
       "      <th>02</th>\n",
       "      <th>02 aug</th>\n",
       "      <th>02 madame</th>\n",
       "      <th>03</th>\n",
       "      <th>03 02</th>\n",
       "      <th>06</th>\n",
       "      <th>06 2020</th>\n",
       "      <th>10</th>\n",
       "      <th>10 2020</th>\n",
       "      <th>10 cradle</th>\n",
       "      <th>...</th>\n",
       "      <th>zookeeper wife</th>\n",
       "      <th>zorba</th>\n",
       "      <th>zorba greek</th>\n",
       "      <th>zoroastrianism</th>\n",
       "      <th>zsigmond</th>\n",
       "      <th>zsigmond móricz</th>\n",
       "      <th>zárate</th>\n",
       "      <th>zárate latinx</th>\n",
       "      <th>âme</th>\n",
       "      <th>âme ending</th>\n",
       "    </tr>\n",
       "  </thead>\n",
       "  <tbody>\n",
       "    <tr>\n",
       "      <th>0</th>\n",
       "      <td>0</td>\n",
       "      <td>0</td>\n",
       "      <td>0</td>\n",
       "      <td>0</td>\n",
       "      <td>0</td>\n",
       "      <td>0</td>\n",
       "      <td>0</td>\n",
       "      <td>0</td>\n",
       "      <td>0</td>\n",
       "      <td>0</td>\n",
       "      <td>...</td>\n",
       "      <td>0</td>\n",
       "      <td>0</td>\n",
       "      <td>0</td>\n",
       "      <td>0</td>\n",
       "      <td>0</td>\n",
       "      <td>0</td>\n",
       "      <td>0</td>\n",
       "      <td>0</td>\n",
       "      <td>0</td>\n",
       "      <td>0</td>\n",
       "    </tr>\n",
       "    <tr>\n",
       "      <th>1</th>\n",
       "      <td>0</td>\n",
       "      <td>0</td>\n",
       "      <td>0</td>\n",
       "      <td>0</td>\n",
       "      <td>0</td>\n",
       "      <td>0</td>\n",
       "      <td>0</td>\n",
       "      <td>0</td>\n",
       "      <td>0</td>\n",
       "      <td>0</td>\n",
       "      <td>...</td>\n",
       "      <td>0</td>\n",
       "      <td>0</td>\n",
       "      <td>0</td>\n",
       "      <td>0</td>\n",
       "      <td>0</td>\n",
       "      <td>0</td>\n",
       "      <td>0</td>\n",
       "      <td>0</td>\n",
       "      <td>0</td>\n",
       "      <td>0</td>\n",
       "    </tr>\n",
       "    <tr>\n",
       "      <th>2</th>\n",
       "      <td>0</td>\n",
       "      <td>0</td>\n",
       "      <td>0</td>\n",
       "      <td>0</td>\n",
       "      <td>0</td>\n",
       "      <td>0</td>\n",
       "      <td>0</td>\n",
       "      <td>0</td>\n",
       "      <td>0</td>\n",
       "      <td>0</td>\n",
       "      <td>...</td>\n",
       "      <td>0</td>\n",
       "      <td>0</td>\n",
       "      <td>0</td>\n",
       "      <td>0</td>\n",
       "      <td>0</td>\n",
       "      <td>0</td>\n",
       "      <td>0</td>\n",
       "      <td>0</td>\n",
       "      <td>0</td>\n",
       "      <td>0</td>\n",
       "    </tr>\n",
       "    <tr>\n",
       "      <th>3</th>\n",
       "      <td>0</td>\n",
       "      <td>0</td>\n",
       "      <td>0</td>\n",
       "      <td>0</td>\n",
       "      <td>0</td>\n",
       "      <td>0</td>\n",
       "      <td>0</td>\n",
       "      <td>0</td>\n",
       "      <td>0</td>\n",
       "      <td>0</td>\n",
       "      <td>...</td>\n",
       "      <td>0</td>\n",
       "      <td>0</td>\n",
       "      <td>0</td>\n",
       "      <td>0</td>\n",
       "      <td>0</td>\n",
       "      <td>0</td>\n",
       "      <td>0</td>\n",
       "      <td>0</td>\n",
       "      <td>0</td>\n",
       "      <td>0</td>\n",
       "    </tr>\n",
       "    <tr>\n",
       "      <th>4</th>\n",
       "      <td>0</td>\n",
       "      <td>0</td>\n",
       "      <td>0</td>\n",
       "      <td>0</td>\n",
       "      <td>0</td>\n",
       "      <td>0</td>\n",
       "      <td>0</td>\n",
       "      <td>0</td>\n",
       "      <td>0</td>\n",
       "      <td>0</td>\n",
       "      <td>...</td>\n",
       "      <td>0</td>\n",
       "      <td>0</td>\n",
       "      <td>0</td>\n",
       "      <td>0</td>\n",
       "      <td>0</td>\n",
       "      <td>0</td>\n",
       "      <td>0</td>\n",
       "      <td>0</td>\n",
       "      <td>0</td>\n",
       "      <td>0</td>\n",
       "    </tr>\n",
       "    <tr>\n",
       "      <th>...</th>\n",
       "      <td>...</td>\n",
       "      <td>...</td>\n",
       "      <td>...</td>\n",
       "      <td>...</td>\n",
       "      <td>...</td>\n",
       "      <td>...</td>\n",
       "      <td>...</td>\n",
       "      <td>...</td>\n",
       "      <td>...</td>\n",
       "      <td>...</td>\n",
       "      <td>...</td>\n",
       "      <td>...</td>\n",
       "      <td>...</td>\n",
       "      <td>...</td>\n",
       "      <td>...</td>\n",
       "      <td>...</td>\n",
       "      <td>...</td>\n",
       "      <td>...</td>\n",
       "      <td>...</td>\n",
       "      <td>...</td>\n",
       "      <td>...</td>\n",
       "    </tr>\n",
       "    <tr>\n",
       "      <th>3010</th>\n",
       "      <td>0</td>\n",
       "      <td>0</td>\n",
       "      <td>0</td>\n",
       "      <td>0</td>\n",
       "      <td>0</td>\n",
       "      <td>0</td>\n",
       "      <td>0</td>\n",
       "      <td>0</td>\n",
       "      <td>0</td>\n",
       "      <td>0</td>\n",
       "      <td>...</td>\n",
       "      <td>0</td>\n",
       "      <td>0</td>\n",
       "      <td>0</td>\n",
       "      <td>0</td>\n",
       "      <td>0</td>\n",
       "      <td>0</td>\n",
       "      <td>0</td>\n",
       "      <td>0</td>\n",
       "      <td>0</td>\n",
       "      <td>0</td>\n",
       "    </tr>\n",
       "    <tr>\n",
       "      <th>3011</th>\n",
       "      <td>0</td>\n",
       "      <td>0</td>\n",
       "      <td>0</td>\n",
       "      <td>0</td>\n",
       "      <td>0</td>\n",
       "      <td>0</td>\n",
       "      <td>0</td>\n",
       "      <td>0</td>\n",
       "      <td>0</td>\n",
       "      <td>0</td>\n",
       "      <td>...</td>\n",
       "      <td>0</td>\n",
       "      <td>0</td>\n",
       "      <td>0</td>\n",
       "      <td>0</td>\n",
       "      <td>0</td>\n",
       "      <td>0</td>\n",
       "      <td>0</td>\n",
       "      <td>0</td>\n",
       "      <td>0</td>\n",
       "      <td>0</td>\n",
       "    </tr>\n",
       "    <tr>\n",
       "      <th>3012</th>\n",
       "      <td>0</td>\n",
       "      <td>0</td>\n",
       "      <td>0</td>\n",
       "      <td>0</td>\n",
       "      <td>0</td>\n",
       "      <td>0</td>\n",
       "      <td>0</td>\n",
       "      <td>0</td>\n",
       "      <td>0</td>\n",
       "      <td>0</td>\n",
       "      <td>...</td>\n",
       "      <td>0</td>\n",
       "      <td>0</td>\n",
       "      <td>0</td>\n",
       "      <td>0</td>\n",
       "      <td>0</td>\n",
       "      <td>0</td>\n",
       "      <td>0</td>\n",
       "      <td>0</td>\n",
       "      <td>0</td>\n",
       "      <td>0</td>\n",
       "    </tr>\n",
       "    <tr>\n",
       "      <th>3013</th>\n",
       "      <td>0</td>\n",
       "      <td>0</td>\n",
       "      <td>0</td>\n",
       "      <td>0</td>\n",
       "      <td>0</td>\n",
       "      <td>0</td>\n",
       "      <td>0</td>\n",
       "      <td>0</td>\n",
       "      <td>0</td>\n",
       "      <td>0</td>\n",
       "      <td>...</td>\n",
       "      <td>0</td>\n",
       "      <td>0</td>\n",
       "      <td>0</td>\n",
       "      <td>0</td>\n",
       "      <td>0</td>\n",
       "      <td>0</td>\n",
       "      <td>0</td>\n",
       "      <td>0</td>\n",
       "      <td>0</td>\n",
       "      <td>0</td>\n",
       "    </tr>\n",
       "    <tr>\n",
       "      <th>3014</th>\n",
       "      <td>0</td>\n",
       "      <td>0</td>\n",
       "      <td>0</td>\n",
       "      <td>0</td>\n",
       "      <td>0</td>\n",
       "      <td>0</td>\n",
       "      <td>0</td>\n",
       "      <td>0</td>\n",
       "      <td>0</td>\n",
       "      <td>0</td>\n",
       "      <td>...</td>\n",
       "      <td>0</td>\n",
       "      <td>0</td>\n",
       "      <td>0</td>\n",
       "      <td>0</td>\n",
       "      <td>0</td>\n",
       "      <td>0</td>\n",
       "      <td>0</td>\n",
       "      <td>0</td>\n",
       "      <td>0</td>\n",
       "      <td>0</td>\n",
       "    </tr>\n",
       "  </tbody>\n",
       "</table>\n",
       "<p>3015 rows × 18724 columns</p>\n",
       "</div>"
      ],
      "text/plain": [
       "      02  02 aug  02 madame  03  03 02  06  06 2020  10  10 2020  10 cradle  \\\n",
       "0      0       0          0   0      0   0        0   0        0          0   \n",
       "1      0       0          0   0      0   0        0   0        0          0   \n",
       "2      0       0          0   0      0   0        0   0        0          0   \n",
       "3      0       0          0   0      0   0        0   0        0          0   \n",
       "4      0       0          0   0      0   0        0   0        0          0   \n",
       "...   ..     ...        ...  ..    ...  ..      ...  ..      ...        ...   \n",
       "3010   0       0          0   0      0   0        0   0        0          0   \n",
       "3011   0       0          0   0      0   0        0   0        0          0   \n",
       "3012   0       0          0   0      0   0        0   0        0          0   \n",
       "3013   0       0          0   0      0   0        0   0        0          0   \n",
       "3014   0       0          0   0      0   0        0   0        0          0   \n",
       "\n",
       "      ...  zookeeper wife  zorba  zorba greek  zoroastrianism  zsigmond  \\\n",
       "0     ...               0      0            0               0         0   \n",
       "1     ...               0      0            0               0         0   \n",
       "2     ...               0      0            0               0         0   \n",
       "3     ...               0      0            0               0         0   \n",
       "4     ...               0      0            0               0         0   \n",
       "...   ...             ...    ...          ...             ...       ...   \n",
       "3010  ...               0      0            0               0         0   \n",
       "3011  ...               0      0            0               0         0   \n",
       "3012  ...               0      0            0               0         0   \n",
       "3013  ...               0      0            0               0         0   \n",
       "3014  ...               0      0            0               0         0   \n",
       "\n",
       "      zsigmond móricz  zárate  zárate latinx  âme  âme ending  \n",
       "0                   0       0              0    0           0  \n",
       "1                   0       0              0    0           0  \n",
       "2                   0       0              0    0           0  \n",
       "3                   0       0              0    0           0  \n",
       "4                   0       0              0    0           0  \n",
       "...               ...     ...            ...  ...         ...  \n",
       "3010                0       0              0    0           0  \n",
       "3011                0       0              0    0           0  \n",
       "3012                0       0              0    0           0  \n",
       "3013                0       0              0    0           0  \n",
       "3014                0       0              0    0           0  \n",
       "\n",
       "[3015 rows x 18724 columns]"
      ]
     },
     "execution_count": 20,
     "metadata": {},
     "output_type": "execute_result"
    }
   ],
   "source": [
    "total_df = pd.DataFrame(X.todense(), # 'densified' the transformed data\n",
    "                        columns = cvec.get_feature_names())\n",
    "                        # get_feature_names on fitted cvec gets words learned from dataset based on 'columns'\n",
    "\n",
    "total_df"
   ]
  },
  {
   "cell_type": "code",
   "execution_count": 21,
   "id": "dec96ac4-3cf7-41f9-bf47-d14f88c1bf67",
   "metadata": {},
   "outputs": [
    {
     "data": {
      "text/plain": [
       "review        370\n",
       "fantasy       290\n",
       "read          276\n",
       "reading       194\n",
       "bingo         177\n",
       "finished      137\n",
       "spoilers      123\n",
       "reviews       122\n",
       "series        106\n",
       "time           98\n",
       "first          88\n",
       "thoughts       84\n",
       "one            77\n",
       "new            76\n",
       "discussion     72\n",
       "club           69\n",
       "mini           64\n",
       "like           63\n",
       "good           60\n",
       "looking        59\n",
       "dtype: int64"
      ]
     },
     "execution_count": 21,
     "metadata": {},
     "output_type": "execute_result"
    }
   ],
   "source": [
    "total_df.sum().T.sort_values(ascending = False).head(20)"
   ]
  },
  {
   "cell_type": "code",
   "execution_count": 129,
   "id": "01c5a18c-003f-42a6-b5b2-e08f742f461f",
   "metadata": {},
   "outputs": [
    {
     "data": {
      "image/png": "[encoded data removed]",
      "text/plain": [
       "<Figure size 432x288 with 1 Axes>"
      ]
     },
     "metadata": {
      "needs_background": "light"
     },
     "output_type": "display_data"
    }
   ],
   "source": [
    "total_df.sum().T.sort_values(ascending = True).tail(20).plot.barh()\n",
    "plt.title('Most Common Unigrams of r/books & r/Fantasy Combined');"
   ]
  },
  {
   "cell_type": "code",
   "execution_count": 130,
   "id": "c555e987-8ae4-4b70-ac91-aeb67a2242d9",
   "metadata": {},
   "outputs": [
    {
     "name": "stderr",
     "output_type": "stream",
     "text": [
      "C:\\Users\\sbhew\\anaconda3\\envs\\dsi\\lib\\site-packages\\sklearn\\utils\\deprecation.py:87: FutureWarning: Function get_feature_names is deprecated; get_feature_names is deprecated in 1.0 and will be removed in 1.2. Please use get_feature_names_out instead.\n",
      "  warnings.warn(msg, category=FutureWarning)\n"
     ]
    },
    {
     "data": {
      "image/png": "[encoded data removed]",
      "text/plain": [
       "<Figure size 432x288 with 1 Axes>"
      ]
     },
     "metadata": {
      "needs_background": "light"
     },
     "output_type": "display_data"
    }
   ],
   "source": [
    "# countvectorize books data \n",
    "X = total_data['title']\n",
    "y = total_data['subreddit']\n",
    "\n",
    "# bigrams only\n",
    "cvec = CountVectorizer(stop_words = stopwords, ngram_range = (2,2))\n",
    "cvec.fit(X)\n",
    "X = cvec.transform(X)\n",
    "\n",
    "total_df = pd.DataFrame(X.todense(), # 'densified' the transformed data\n",
    "                        columns = cvec.get_feature_names())\n",
    "                        # get_feature_names on fitted cvec gets words learned from dataset based on 'columns'\n",
    "total_df.sum().T.sort_values(ascending = True).tail(20).plot.barh()\n",
    "plt.title('Most Common Bigrams of r/books & r/Fantasy Combined');"
   ]
  },
  {
   "cell_type": "markdown",
   "id": "c1d80ed8-71b3-40f2-9a9c-eadc249ab65c",
   "metadata": {},
   "source": [
    "---\n",
    "## GridSearch with CountVectorizer & Multinomial Naive Bayes"
   ]
  },
  {
   "cell_type": "code",
   "execution_count": 24,
   "id": "f168449e-ea2c-4684-a9a4-5ec0d60245d3",
   "metadata": {},
   "outputs": [],
   "source": [
    "#X = data.drop(columns = 'subreddit')\n",
    "X = total_data['total_text']\n",
    "y = total_data['subreddit']"
   ]
  },
  {
   "cell_type": "code",
   "execution_count": 25,
   "id": "620d01ae-b194-47f3-99e6-409e26cac684",
   "metadata": {},
   "outputs": [
    {
     "data": {
      "text/plain": [
       "1    0.511443\n",
       "0    0.488557\n",
       "Name: subreddit, dtype: float64"
      ]
     },
     "execution_count": 25,
     "metadata": {},
     "output_type": "execute_result"
    }
   ],
   "source": [
    "y.value_counts(normalize = True)"
   ]
  },
  {
   "cell_type": "code",
   "execution_count": 26,
   "id": "3d3a3824-5ae2-4780-8a93-ccd7a072cdbe",
   "metadata": {},
   "outputs": [],
   "source": [
    "# Redefine training and testing sets.\n",
    "X_train, X_test, y_train, y_test = train_test_split(X,\n",
    "                                                    y,\n",
    "                                                    stratify=y,\n",
    "                                                    random_state=42)"
   ]
  },
  {
   "cell_type": "code",
   "execution_count": 27,
   "id": "4d5bb374-6ab4-47c4-a319-24ef14cbdb9b",
   "metadata": {},
   "outputs": [],
   "source": [
    "pipe = Pipeline([\n",
    "    ('cvec', CountVectorizer()),\n",
    "    ('nb', MultinomialNB())\n",
    "])"
   ]
  },
  {
   "cell_type": "code",
   "execution_count": 28,
   "id": "326b8419-ef38-45e3-9e40-2a3ec9648d7b",
   "metadata": {},
   "outputs": [
    {
     "data": {
      "text/plain": [
       "{'memory': None,\n",
       " 'steps': [('cvec', CountVectorizer()), ('nb', MultinomialNB())],\n",
       " 'verbose': False,\n",
       " 'cvec': CountVectorizer(),\n",
       " 'nb': MultinomialNB(),\n",
       " 'cvec__analyzer': 'word',\n",
       " 'cvec__binary': False,\n",
       " 'cvec__decode_error': 'strict',\n",
       " 'cvec__dtype': numpy.int64,\n",
       " 'cvec__encoding': 'utf-8',\n",
       " 'cvec__input': 'content',\n",
       " 'cvec__lowercase': True,\n",
       " 'cvec__max_df': 1.0,\n",
       " 'cvec__max_features': None,\n",
       " 'cvec__min_df': 1,\n",
       " 'cvec__ngram_range': (1, 1),\n",
       " 'cvec__preprocessor': None,\n",
       " 'cvec__stop_words': None,\n",
       " 'cvec__strip_accents': None,\n",
       " 'cvec__token_pattern': '(?u)\\\\b\\\\w\\\\w+\\\\b',\n",
       " 'cvec__tokenizer': None,\n",
       " 'cvec__vocabulary': None,\n",
       " 'nb__alpha': 1.0,\n",
       " 'nb__class_prior': None,\n",
       " 'nb__fit_prior': True}"
      ]
     },
     "execution_count": 28,
     "metadata": {},
     "output_type": "execute_result"
    }
   ],
   "source": [
    "pipe.get_params()"
   ]
  },
  {
   "cell_type": "code",
   "execution_count": 29,
   "id": "9e182929-a482-40d6-86c8-9ae673b7d51c",
   "metadata": {},
   "outputs": [],
   "source": [
    "pipe_params = {\n",
    "    'cvec__max_features': [2_000, 3_000], # max num of features\n",
    "    'cvec__min_df': [2, 3], # min num of documents needed in percentage\n",
    "    'cvec__max_df': [.9, .95], # max num of documents needed in percentage\n",
    "    'cvec__ngram_range': [(1, 1), (1, 2)], # individual and bigrams\n",
    "    'cvec__stop_words': ['english', stopwords],\n",
    "    'nb__alpha': [0.01, 0.1, 0.5, 1]\n",
    "}"
   ]
  },
  {
   "cell_type": "code",
   "execution_count": 30,
   "id": "8931aad8-67c9-436b-bf07-62326e0460ac",
   "metadata": {},
   "outputs": [],
   "source": [
    "gs = GridSearchCV(pipe, \n",
    "                  param_grid = pipe_params, \n",
    "                  cv = 5) "
   ]
  },
  {
   "cell_type": "code",
   "execution_count": 31,
   "id": "d97e2d7f-f2fa-4234-bd4b-396f80287fb6",
   "metadata": {},
   "outputs": [
    {
     "data": {
      "text/plain": [
       "GridSearchCV(cv=5,\n",
       "             estimator=Pipeline(steps=[('cvec', CountVectorizer()),\n",
       "                                       ('nb', MultinomialNB())]),\n",
       "             param_grid={'cvec__max_df': [0.9, 0.95],\n",
       "                         'cvec__max_features': [2000, 3000],\n",
       "                         'cvec__min_df': [2, 3],\n",
       "                         'cvec__ngram_range': [(1, 1), (1, 2)],\n",
       "                         'cvec__stop_words': ['english',\n",
       "                                              ['i', 'me', 'my', 'myself', 'we',\n",
       "                                               'our', 'ours', 'ourselves',\n",
       "                                               'you', \"you're\", \"you've\",\n",
       "                                               \"you'll\", \"you'd\", 'your',\n",
       "                                               'yours', 'yourself',\n",
       "                                               'yourselves', 'he', 'him', 'his',\n",
       "                                               'himself', 'she', \"she's\", 'her',\n",
       "                                               'hers', 'herself', 'it', \"it's\",\n",
       "                                               'its', 'itself', ...]],\n",
       "                         'nb__alpha': [0.01, 0.1, 0.5, 1]})"
      ]
     },
     "execution_count": 31,
     "metadata": {},
     "output_type": "execute_result"
    }
   ],
   "source": [
    "gs.fit(X_train, y_train)"
   ]
  },
  {
   "cell_type": "code",
   "execution_count": 32,
   "id": "21624c2f-9ec5-4aa7-acd8-ed888b4d8bba",
   "metadata": {},
   "outputs": [
    {
     "data": {
      "text/plain": [
       "0.8465451561858993"
      ]
     },
     "execution_count": 32,
     "metadata": {},
     "output_type": "execute_result"
    }
   ],
   "source": [
    "gs.best_score_"
   ]
  },
  {
   "cell_type": "code",
   "execution_count": 33,
   "id": "b348fe90-88f4-458a-8744-d6ea518fefeb",
   "metadata": {},
   "outputs": [
    {
     "data": {
      "text/plain": [
       "{'cvec__max_df': 0.9,\n",
       " 'cvec__max_features': 2000,\n",
       " 'cvec__min_df': 2,\n",
       " 'cvec__ngram_range': (1, 2),\n",
       " 'cvec__stop_words': 'english',\n",
       " 'nb__alpha': 0.01}"
      ]
     },
     "execution_count": 33,
     "metadata": {},
     "output_type": "execute_result"
    }
   ],
   "source": [
    "gs.best_params_"
   ]
  },
  {
   "cell_type": "code",
   "execution_count": 34,
   "id": "4f91907b-a799-42c4-98d3-008d878d77e0",
   "metadata": {},
   "outputs": [
    {
     "name": "stdout",
     "output_type": "stream",
     "text": [
      "Train Score: 0.8783724015922159\n",
      "Test Score: 0.870026525198939\n"
     ]
    }
   ],
   "source": [
    "print(f'Train Score: {gs.score(X_train, y_train)}')\n",
    "print(f'Test Score: {gs.score(X_test, y_test)}')"
   ]
  },
  {
   "cell_type": "code",
   "execution_count": 35,
   "id": "6071ef53-e6e3-47b9-befd-4d772ba04212",
   "metadata": {},
   "outputs": [],
   "source": [
    "preds = gs.predict(X_test)\n",
    "\n",
    "tn, fp, fn, tp = confusion_matrix(y_test, preds).ravel()"
   ]
  },
  {
   "cell_type": "code",
   "execution_count": 111,
   "id": "5bb29310-437f-4ce8-b6f1-5e4d7422a65d",
   "metadata": {},
   "outputs": [
    {
     "name": "stderr",
     "output_type": "stream",
     "text": [
      "C:\\Users\\sbhew\\anaconda3\\envs\\dsi\\lib\\site-packages\\sklearn\\utils\\deprecation.py:87: FutureWarning: Function plot_confusion_matrix is deprecated; Function `plot_confusion_matrix` is deprecated in 1.0 and will be removed in 1.2. Use one of the class methods: ConfusionMatrixDisplay.from_predictions or ConfusionMatrixDisplay.from_estimator.\n",
      "  warnings.warn(msg, category=FutureWarning)\n"
     ]
    },
    {
     "data": {
      "image/png": "[encoded data removed]",
      "text/plain": [
       "<Figure size 432x288 with 2 Axes>"
      ]
     },
     "metadata": {
      "needs_background": "light"
     },
     "output_type": "display_data"
    }
   ],
   "source": [
    "# confusion matrix\n",
    "plot_confusion_matrix(gs, X_test, y_test, cmap='Greens', display_labels = ['r/books', 'r/Fantasy'])\n",
    "plt.title('CVEC & NB Pipe');"
   ]
  },
  {
   "cell_type": "code",
   "execution_count": 37,
   "id": "ec6a8a20-addc-4cf1-bdad-13cbbb42690a",
   "metadata": {},
   "outputs": [],
   "source": [
    "#(gs.predict_proba(X_test)[:,1]>=0.6).astype(int)"
   ]
  },
  {
   "cell_type": "code",
   "execution_count": 38,
   "id": "593b7fb6-a04a-4628-80e9-21c87124b5af",
   "metadata": {},
   "outputs": [],
   "source": [
    "#pred_proba = (gs.predict_proba(X_test)[:,1]>=0.6).astype(int)\n",
    "pred_proba = gs.predict_proba(X_test)"
   ]
  },
  {
   "cell_type": "code",
   "execution_count": 39,
   "id": "58debb11-9986-45c2-84b0-ee6f9fdd23f1",
   "metadata": {},
   "outputs": [],
   "source": [
    "pred_df = pd.DataFrame({'true_values': y_test,\n",
    "              'pred_probs': gs.predict_proba(X_test)[:,1]})"
   ]
  },
  {
   "cell_type": "code",
   "execution_count": 40,
   "id": "5bb0fe73-a7f5-4069-a234-7035c1d3aac0",
   "metadata": {},
   "outputs": [
    {
     "data": {
      "text/html": [
       "<div>\n",
       "<style scoped>\n",
       "    .dataframe tbody tr th:only-of-type {\n",
       "        vertical-align: middle;\n",
       "    }\n",
       "\n",
       "    .dataframe tbody tr th {\n",
       "        vertical-align: top;\n",
       "    }\n",
       "\n",
       "    .dataframe thead th {\n",
       "        text-align: right;\n",
       "    }\n",
       "</style>\n",
       "<table border=\"1\" class=\"dataframe\">\n",
       "  <thead>\n",
       "    <tr style=\"text-align: right;\">\n",
       "      <th></th>\n",
       "      <th>true_values</th>\n",
       "      <th>pred_probs</th>\n",
       "    </tr>\n",
       "  </thead>\n",
       "  <tbody>\n",
       "    <tr>\n",
       "      <th>1154</th>\n",
       "      <td>0</td>\n",
       "      <td>3.096256e-05</td>\n",
       "    </tr>\n",
       "    <tr>\n",
       "      <th>1109</th>\n",
       "      <td>0</td>\n",
       "      <td>2.710351e-132</td>\n",
       "    </tr>\n",
       "    <tr>\n",
       "      <th>1894</th>\n",
       "      <td>1</td>\n",
       "      <td>1.000000e+00</td>\n",
       "    </tr>\n",
       "    <tr>\n",
       "      <th>245</th>\n",
       "      <td>0</td>\n",
       "      <td>1.068223e-11</td>\n",
       "    </tr>\n",
       "    <tr>\n",
       "      <th>2916</th>\n",
       "      <td>1</td>\n",
       "      <td>9.999833e-01</td>\n",
       "    </tr>\n",
       "  </tbody>\n",
       "</table>\n",
       "</div>"
      ],
      "text/plain": [
       "      true_values     pred_probs\n",
       "1154            0   3.096256e-05\n",
       "1109            0  2.710351e-132\n",
       "1894            1   1.000000e+00\n",
       "245             0   1.068223e-11\n",
       "2916            1   9.999833e-01"
      ]
     },
     "execution_count": 40,
     "metadata": {},
     "output_type": "execute_result"
    }
   ],
   "source": [
    "pred_df.head()"
   ]
  },
  {
   "cell_type": "code",
   "execution_count": 41,
   "id": "42be5518-3d5f-4487-ad58-1ba17f29cf67",
   "metadata": {},
   "outputs": [
    {
     "data": {
      "text/plain": [
       "Text(0.5, 1.0, 'Distribution of r/Fantasy Predicted Probabilites')"
      ]
     },
     "execution_count": 41,
     "metadata": {},
     "output_type": "execute_result"
    },
    {
     "data": {
      "image/png": "[encoded data removed]",
      "text/plain": [
       "<Figure size 432x288 with 1 Axes>"
      ]
     },
     "metadata": {
      "needs_background": "light"
     },
     "output_type": "display_data"
    }
   ],
   "source": [
    "pred_df['pred_probs'].hist()\n",
    "plt.title('Distribution of r/Fantasy Predicted Probabilites')"
   ]
  },
  {
   "cell_type": "code",
   "execution_count": 116,
   "id": "dfef5cb1-7a93-4724-ada7-88c8bade605f",
   "metadata": {},
   "outputs": [
    {
     "name": "stderr",
     "output_type": "stream",
     "text": [
      "C:\\Users\\sbhew\\anaconda3\\envs\\dsi\\lib\\site-packages\\seaborn\\distributions.py:2619: FutureWarning: `distplot` is a deprecated function and will be removed in a future version. Please adapt your code to use either `displot` (a figure-level function with similar flexibility) or `histplot` (an axes-level function for histograms).\n",
      "  warnings.warn(msg, FutureWarning)\n"
     ]
    },
    {
     "data": {
      "image/png": "[encoded data removed]",
      "text/plain": [
       "<Figure size 864x360 with 1 Axes>"
      ]
     },
     "metadata": {
      "needs_background": "light"
     },
     "output_type": "display_data"
    }
   ],
   "source": [
    "plt.figure(figsize = (12, 5))\n",
    "\n",
    "# plot distributions of predicted probabilities by actual values\n",
    "for group in pred_df.groupby('true_values'):\n",
    "    sns.distplot(group[1], kde = False, bins = 50, label = f'Actual Outcome = {group[0]}')\n",
    "\n",
    "plt.xlabel('Predicted Probability that Outcome = 1 (r/Fantasy)')\n",
    "plt.legend();"
   ]
  },
  {
   "cell_type": "code",
   "execution_count": 43,
   "id": "dade84cd-81d7-4406-bdc1-7017a42336bd",
   "metadata": {},
   "outputs": [
    {
     "data": {
      "text/html": [
       "<div>\n",
       "<style scoped>\n",
       "    .dataframe tbody tr th:only-of-type {\n",
       "        vertical-align: middle;\n",
       "    }\n",
       "\n",
       "    .dataframe tbody tr th {\n",
       "        vertical-align: top;\n",
       "    }\n",
       "\n",
       "    .dataframe thead th {\n",
       "        text-align: right;\n",
       "    }\n",
       "</style>\n",
       "<table border=\"1\" class=\"dataframe\">\n",
       "  <thead>\n",
       "    <tr style=\"text-align: right;\">\n",
       "      <th></th>\n",
       "      <th>0</th>\n",
       "      <th>1</th>\n",
       "    </tr>\n",
       "  </thead>\n",
       "  <tbody>\n",
       "    <tr>\n",
       "      <th>0</th>\n",
       "      <td>9.999690e-01</td>\n",
       "      <td>3.096256e-05</td>\n",
       "    </tr>\n",
       "    <tr>\n",
       "      <th>1</th>\n",
       "      <td>1.000000e+00</td>\n",
       "      <td>2.710351e-132</td>\n",
       "    </tr>\n",
       "    <tr>\n",
       "      <th>2</th>\n",
       "      <td>4.600440e-19</td>\n",
       "      <td>1.000000e+00</td>\n",
       "    </tr>\n",
       "    <tr>\n",
       "      <th>3</th>\n",
       "      <td>1.000000e+00</td>\n",
       "      <td>1.068223e-11</td>\n",
       "    </tr>\n",
       "    <tr>\n",
       "      <th>4</th>\n",
       "      <td>1.668534e-05</td>\n",
       "      <td>9.999833e-01</td>\n",
       "    </tr>\n",
       "    <tr>\n",
       "      <th>...</th>\n",
       "      <td>...</td>\n",
       "      <td>...</td>\n",
       "    </tr>\n",
       "    <tr>\n",
       "      <th>749</th>\n",
       "      <td>9.999630e-01</td>\n",
       "      <td>3.700020e-05</td>\n",
       "    </tr>\n",
       "    <tr>\n",
       "      <th>750</th>\n",
       "      <td>9.999997e-01</td>\n",
       "      <td>2.838215e-07</td>\n",
       "    </tr>\n",
       "    <tr>\n",
       "      <th>751</th>\n",
       "      <td>9.999529e-01</td>\n",
       "      <td>4.711363e-05</td>\n",
       "    </tr>\n",
       "    <tr>\n",
       "      <th>752</th>\n",
       "      <td>1.000000e+00</td>\n",
       "      <td>1.667049e-20</td>\n",
       "    </tr>\n",
       "    <tr>\n",
       "      <th>753</th>\n",
       "      <td>1.000000e+00</td>\n",
       "      <td>0.000000e+00</td>\n",
       "    </tr>\n",
       "  </tbody>\n",
       "</table>\n",
       "<p>754 rows × 2 columns</p>\n",
       "</div>"
      ],
      "text/plain": [
       "                0              1\n",
       "0    9.999690e-01   3.096256e-05\n",
       "1    1.000000e+00  2.710351e-132\n",
       "2    4.600440e-19   1.000000e+00\n",
       "3    1.000000e+00   1.068223e-11\n",
       "4    1.668534e-05   9.999833e-01\n",
       "..            ...            ...\n",
       "749  9.999630e-01   3.700020e-05\n",
       "750  9.999997e-01   2.838215e-07\n",
       "751  9.999529e-01   4.711363e-05\n",
       "752  1.000000e+00   1.667049e-20\n",
       "753  1.000000e+00   0.000000e+00\n",
       "\n",
       "[754 rows x 2 columns]"
      ]
     },
     "execution_count": 43,
     "metadata": {},
     "output_type": "execute_result"
    }
   ],
   "source": [
    "pred_proba_df=pd.DataFrame(pred_proba)\n",
    "pred_proba_df"
   ]
  },
  {
   "cell_type": "code",
   "execution_count": 44,
   "id": "7f96ecdc-8f4b-4cfa-9f2b-a4915f969692",
   "metadata": {},
   "outputs": [
    {
     "data": {
      "text/plain": [
       "<AxesSubplot:>"
      ]
     },
     "execution_count": 44,
     "metadata": {},
     "output_type": "execute_result"
    },
    {
     "data": {
      "image/png": "[encoded data removed]",
      "text/plain": [
       "<Figure size 432x288 with 1 Axes>"
      ]
     },
     "metadata": {
      "needs_background": "light"
     },
     "output_type": "display_data"
    }
   ],
   "source": [
    "pred_proba_df[0].hist()"
   ]
  },
  {
   "cell_type": "markdown",
   "id": "0a2867fc-d042-41f6-b83f-300f3b855c6d",
   "metadata": {},
   "source": [
    "---\n",
    "## GridSearch with TFIDVectorizer & Multinomial Naive Bayes"
   ]
  },
  {
   "cell_type": "code",
   "execution_count": 45,
   "id": "00cd5fb7-2331-4c5c-94a0-c7219e33c2ef",
   "metadata": {},
   "outputs": [],
   "source": [
    "X = total_data['total_text']\n",
    "y = total_data['subreddit']"
   ]
  },
  {
   "cell_type": "code",
   "execution_count": 46,
   "id": "2f9256d2-1746-449a-a8b3-8182da81619f",
   "metadata": {},
   "outputs": [
    {
     "data": {
      "text/plain": [
       "TfidfVectorizer(ngram_range=(1, 2), stop_words='english')"
      ]
     },
     "execution_count": 46,
     "metadata": {},
     "output_type": "execute_result"
    }
   ],
   "source": [
    "tvec = TfidfVectorizer(stop_words = 'english', ngram_range= (1,2))\n",
    "tvec.fit(X)\n",
    "#X = tvec.transform(X)"
   ]
  },
  {
   "cell_type": "code",
   "execution_count": 47,
   "id": "85a4248b-516b-42f6-b496-1bff368a79cf",
   "metadata": {},
   "outputs": [],
   "source": [
    "#tvec_total_df = pd.DataFrame(X.todense(), # 'densified' the transformed data\n",
    "#                             columns = tvec.get_feature_names())\n",
    "                             # get_feature_names on fitted cvec gets words learned from dataset based on 'columns'\n",
    "\n",
    "#tvec_total_df"
   ]
  },
  {
   "cell_type": "code",
   "execution_count": 48,
   "id": "38708d7a-c84b-4f7d-b536-c60b26e20274",
   "metadata": {},
   "outputs": [],
   "source": [
    "X_train, X_test, y_train, y_test = train_test_split(X,\n",
    "                                                    y,\n",
    "                                                    stratify=y,\n",
    "                                                    random_state=42)"
   ]
  },
  {
   "cell_type": "code",
   "execution_count": 49,
   "id": "98a75858-e421-4e95-9212-d38425daf105",
   "metadata": {},
   "outputs": [],
   "source": [
    "pipe_tvec = Pipeline([\n",
    "    ('tvec', TfidfVectorizer()),\n",
    "    ('nb', MultinomialNB())\n",
    "])\n",
    "\n",
    "pipe_tvec_params = {\n",
    "    'tvec__max_features': [2_000, 3_000, 4_000],\n",
    "    'tvec__ngram_range': [(1, 1), (1, 2)],\n",
    "    'tvec__min_df': [2, 3, 4, 5], # min num of documents needed in percentage\n",
    "    'tvec__max_df': [.9, .95],# max num of documents needed in percentage\n",
    "    'tvec__stop_words': ['english', stopwords]\n",
    "}"
   ]
  },
  {
   "cell_type": "code",
   "execution_count": 50,
   "id": "822dd4c3-cd86-401c-85ab-fe34457e777d",
   "metadata": {},
   "outputs": [
    {
     "data": {
      "text/plain": [
       "{'memory': None,\n",
       " 'steps': [('tvec', TfidfVectorizer()), ('nb', MultinomialNB())],\n",
       " 'verbose': False,\n",
       " 'tvec': TfidfVectorizer(),\n",
       " 'nb': MultinomialNB(),\n",
       " 'tvec__analyzer': 'word',\n",
       " 'tvec__binary': False,\n",
       " 'tvec__decode_error': 'strict',\n",
       " 'tvec__dtype': numpy.float64,\n",
       " 'tvec__encoding': 'utf-8',\n",
       " 'tvec__input': 'content',\n",
       " 'tvec__lowercase': True,\n",
       " 'tvec__max_df': 1.0,\n",
       " 'tvec__max_features': None,\n",
       " 'tvec__min_df': 1,\n",
       " 'tvec__ngram_range': (1, 1),\n",
       " 'tvec__norm': 'l2',\n",
       " 'tvec__preprocessor': None,\n",
       " 'tvec__smooth_idf': True,\n",
       " 'tvec__stop_words': None,\n",
       " 'tvec__strip_accents': None,\n",
       " 'tvec__sublinear_tf': False,\n",
       " 'tvec__token_pattern': '(?u)\\\\b\\\\w\\\\w+\\\\b',\n",
       " 'tvec__tokenizer': None,\n",
       " 'tvec__use_idf': True,\n",
       " 'tvec__vocabulary': None,\n",
       " 'nb__alpha': 1.0,\n",
       " 'nb__class_prior': None,\n",
       " 'nb__fit_prior': True}"
      ]
     },
     "execution_count": 50,
     "metadata": {},
     "output_type": "execute_result"
    }
   ],
   "source": [
    "pipe_tvec.get_params()"
   ]
  },
  {
   "cell_type": "code",
   "execution_count": 51,
   "id": "ce3f2b8e-cf29-4e0b-b13e-18fb708d02f7",
   "metadata": {},
   "outputs": [],
   "source": [
    "gs_tvec = GridSearchCV(pipe_tvec,\n",
    "                       param_grid = pipe_tvec_params,\n",
    "                       cv = 5)"
   ]
  },
  {
   "cell_type": "code",
   "execution_count": 52,
   "id": "8fc90257-b0cf-43be-a17d-093ea03606eb",
   "metadata": {
    "tags": []
   },
   "outputs": [
    {
     "data": {
      "text/plain": [
       "GridSearchCV(cv=5,\n",
       "             estimator=Pipeline(steps=[('tvec', TfidfVectorizer()),\n",
       "                                       ('nb', MultinomialNB())]),\n",
       "             param_grid={'tvec__max_df': [0.9, 0.95],\n",
       "                         'tvec__max_features': [2000, 3000, 4000],\n",
       "                         'tvec__min_df': [2, 3, 4, 5],\n",
       "                         'tvec__ngram_range': [(1, 1), (1, 2)],\n",
       "                         'tvec__stop_words': ['english',\n",
       "                                              ['i', 'me', 'my', 'myself', 'we',\n",
       "                                               'our', 'ours', 'ourselves',\n",
       "                                               'you', \"you're\", \"you've\",\n",
       "                                               \"you'll\", \"you'd\", 'your',\n",
       "                                               'yours', 'yourself',\n",
       "                                               'yourselves', 'he', 'him', 'his',\n",
       "                                               'himself', 'she', \"she's\", 'her',\n",
       "                                               'hers', 'herself', 'it', \"it's\",\n",
       "                                               'its', 'itself', ...]]})"
      ]
     },
     "execution_count": 52,
     "metadata": {},
     "output_type": "execute_result"
    }
   ],
   "source": [
    "gs_tvec.fit(X_train, y_train)"
   ]
  },
  {
   "cell_type": "code",
   "execution_count": 53,
   "id": "e61c8c9a-2d72-45b6-b33b-6f29ffd56fcd",
   "metadata": {},
   "outputs": [
    {
     "data": {
      "text/plain": [
       "{'tvec__max_df': 0.9,\n",
       " 'tvec__max_features': 4000,\n",
       " 'tvec__min_df': 5,\n",
       " 'tvec__ngram_range': (1, 1),\n",
       " 'tvec__stop_words': 'english'}"
      ]
     },
     "execution_count": 53,
     "metadata": {},
     "output_type": "execute_result"
    }
   ],
   "source": [
    "gs_tvec.best_params_"
   ]
  },
  {
   "cell_type": "code",
   "execution_count": 54,
   "id": "2a54065a-a6aa-43ea-8594-b4002a1e6eb8",
   "metadata": {},
   "outputs": [
    {
     "name": "stdout",
     "output_type": "stream",
     "text": [
      "Train Score: 0.8978328173374613\n",
      "Test Score: 0.8554376657824934\n"
     ]
    }
   ],
   "source": [
    "print(f'Train Score: {gs_tvec.score(X_train, y_train)}')\n",
    "print(f'Test Score: {gs_tvec.score(X_test, y_test)}')"
   ]
  },
  {
   "cell_type": "code",
   "execution_count": 55,
   "id": "3467ad49-06f0-49bc-a309-c0124e40ec18",
   "metadata": {},
   "outputs": [],
   "source": [
    "# predictions\n",
    "preds_tvec = gs_tvec.predict(X_test)\n",
    "\n",
    "# confusion matrix values\n",
    "tn, fp, fn, tp = confusion_matrix(y_test, preds_tvec).ravel()"
   ]
  },
  {
   "cell_type": "code",
   "execution_count": 110,
   "id": "06f9d5d3-2d49-424b-b381-6c26e1b68ec2",
   "metadata": {},
   "outputs": [
    {
     "name": "stderr",
     "output_type": "stream",
     "text": [
      "C:\\Users\\sbhew\\anaconda3\\envs\\dsi\\lib\\site-packages\\sklearn\\utils\\deprecation.py:87: FutureWarning: Function plot_confusion_matrix is deprecated; Function `plot_confusion_matrix` is deprecated in 1.0 and will be removed in 1.2. Use one of the class methods: ConfusionMatrixDisplay.from_predictions or ConfusionMatrixDisplay.from_estimator.\n",
      "  warnings.warn(msg, category=FutureWarning)\n"
     ]
    },
    {
     "data": {
      "image/png": "[encoded data removed]",
      "text/plain": [
       "<Figure size 432x288 with 2 Axes>"
      ]
     },
     "metadata": {
      "needs_background": "light"
     },
     "output_type": "display_data"
    }
   ],
   "source": [
    "plot_confusion_matrix(gs_tvec, X_test, y_test, cmap = 'Blues', display_labels = ['r/books', 'r/Fantasy'])\n",
    "plt.title('TVEC & NB Pipe');"
   ]
  },
  {
   "cell_type": "code",
   "execution_count": 57,
   "id": "7fb79383-3a2c-411c-b823-551dff2dd682",
   "metadata": {},
   "outputs": [],
   "source": [
    "gs_tvec_feature_probs = gs_tvec.best_estimator_.named_steps['nb'].feature_log_prob_[0]"
   ]
  },
  {
   "cell_type": "code",
   "execution_count": 58,
   "id": "15b5548d-bef3-41fb-a575-321bb0d4f285",
   "metadata": {},
   "outputs": [
    {
     "name": "stderr",
     "output_type": "stream",
     "text": [
      "C:\\Users\\sbhew\\anaconda3\\envs\\dsi\\lib\\site-packages\\sklearn\\utils\\deprecation.py:87: FutureWarning: Function get_feature_names is deprecated; get_feature_names is deprecated in 1.0 and will be removed in 1.2. Please use get_feature_names_out instead.\n",
      "  warnings.warn(msg, category=FutureWarning)\n"
     ]
    }
   ],
   "source": [
    "gs_tvec_feature_names = gs_tvec.best_estimator_.named_steps['tvec'].get_feature_names()\n",
    "#zip with above, one may have big log prob that is forcing it to be keyed"
   ]
  },
  {
   "cell_type": "code",
   "execution_count": 59,
   "id": "36882f57-f03b-47c1-a99f-e8effb4ce554",
   "metadata": {},
   "outputs": [],
   "source": [
    "zipped = zip(gs_tvec_feature_names, gs_tvec_feature_probs)"
   ]
  },
  {
   "cell_type": "code",
   "execution_count": 60,
   "id": "73608a58-2589-44fb-aba7-cee18d3e394a",
   "metadata": {},
   "outputs": [
    {
     "data": {
      "text/html": [
       "<div>\n",
       "<style scoped>\n",
       "    .dataframe tbody tr th:only-of-type {\n",
       "        vertical-align: middle;\n",
       "    }\n",
       "\n",
       "    .dataframe tbody tr th {\n",
       "        vertical-align: top;\n",
       "    }\n",
       "\n",
       "    .dataframe thead th {\n",
       "        text-align: right;\n",
       "    }\n",
       "</style>\n",
       "<table border=\"1\" class=\"dataframe\">\n",
       "  <thead>\n",
       "    <tr style=\"text-align: right;\">\n",
       "      <th></th>\n",
       "      <th>feature_name</th>\n",
       "      <th>feature_prob</th>\n",
       "    </tr>\n",
       "  </thead>\n",
       "  <tbody>\n",
       "    <tr>\n",
       "      <th>0</th>\n",
       "      <td>000</td>\n",
       "      <td>-8.494925</td>\n",
       "    </tr>\n",
       "    <tr>\n",
       "      <th>1</th>\n",
       "      <td>01</td>\n",
       "      <td>-8.874502</td>\n",
       "    </tr>\n",
       "    <tr>\n",
       "      <th>2</th>\n",
       "      <td>02</td>\n",
       "      <td>-9.246749</td>\n",
       "    </tr>\n",
       "    <tr>\n",
       "      <th>3</th>\n",
       "      <td>03</td>\n",
       "      <td>-9.012072</td>\n",
       "    </tr>\n",
       "    <tr>\n",
       "      <th>4</th>\n",
       "      <td>04</td>\n",
       "      <td>-9.410752</td>\n",
       "    </tr>\n",
       "    <tr>\n",
       "      <th>...</th>\n",
       "      <td>...</td>\n",
       "      <td>...</td>\n",
       "    </tr>\n",
       "    <tr>\n",
       "      <th>3995</th>\n",
       "      <td>youtube</td>\n",
       "      <td>-7.660337</td>\n",
       "    </tr>\n",
       "    <tr>\n",
       "      <th>3996</th>\n",
       "      <td>zero</td>\n",
       "      <td>-8.626266</td>\n",
       "    </tr>\n",
       "    <tr>\n",
       "      <th>3997</th>\n",
       "      <td>zeus</td>\n",
       "      <td>-9.261331</td>\n",
       "    </tr>\n",
       "    <tr>\n",
       "      <th>3998</th>\n",
       "      <td>zombie</td>\n",
       "      <td>-9.163384</td>\n",
       "    </tr>\n",
       "    <tr>\n",
       "      <th>3999</th>\n",
       "      <td>zone</td>\n",
       "      <td>-8.599542</td>\n",
       "    </tr>\n",
       "  </tbody>\n",
       "</table>\n",
       "<p>4000 rows × 2 columns</p>\n",
       "</div>"
      ],
      "text/plain": [
       "     feature_name  feature_prob\n",
       "0             000     -8.494925\n",
       "1              01     -8.874502\n",
       "2              02     -9.246749\n",
       "3              03     -9.012072\n",
       "4              04     -9.410752\n",
       "...           ...           ...\n",
       "3995      youtube     -7.660337\n",
       "3996         zero     -8.626266\n",
       "3997         zeus     -9.261331\n",
       "3998       zombie     -9.163384\n",
       "3999         zone     -8.599542\n",
       "\n",
       "[4000 rows x 2 columns]"
      ]
     },
     "execution_count": 60,
     "metadata": {},
     "output_type": "execute_result"
    }
   ],
   "source": [
    "zipped_df = pd.DataFrame(zipped, columns = ['feature_name', 'feature_prob'])\n",
    "zipped_df"
   ]
  },
  {
   "cell_type": "code",
   "execution_count": 61,
   "id": "ca820fe2-b7a6-4cf9-a83f-63a49d9e30bd",
   "metadata": {},
   "outputs": [
    {
     "data": {
      "text/html": [
       "<div>\n",
       "<style scoped>\n",
       "    .dataframe tbody tr th:only-of-type {\n",
       "        vertical-align: middle;\n",
       "    }\n",
       "\n",
       "    .dataframe tbody tr th {\n",
       "        vertical-align: top;\n",
       "    }\n",
       "\n",
       "    .dataframe thead th {\n",
       "        text-align: right;\n",
       "    }\n",
       "</style>\n",
       "<table border=\"1\" class=\"dataframe\">\n",
       "  <thead>\n",
       "    <tr style=\"text-align: right;\">\n",
       "      <th></th>\n",
       "      <th>feature_prob</th>\n",
       "    </tr>\n",
       "  </thead>\n",
       "  <tbody>\n",
       "    <tr>\n",
       "      <th>count</th>\n",
       "      <td>4000.000000</td>\n",
       "    </tr>\n",
       "    <tr>\n",
       "      <th>mean</th>\n",
       "      <td>-8.514758</td>\n",
       "    </tr>\n",
       "    <tr>\n",
       "      <th>std</th>\n",
       "      <td>0.582598</td>\n",
       "    </tr>\n",
       "    <tr>\n",
       "      <th>min</th>\n",
       "      <td>-9.410752</td>\n",
       "    </tr>\n",
       "    <tr>\n",
       "      <th>25%</th>\n",
       "      <td>-8.908874</td>\n",
       "    </tr>\n",
       "    <tr>\n",
       "      <th>50%</th>\n",
       "      <td>-8.624118</td>\n",
       "    </tr>\n",
       "    <tr>\n",
       "      <th>75%</th>\n",
       "      <td>-8.221531</td>\n",
       "    </tr>\n",
       "    <tr>\n",
       "      <th>max</th>\n",
       "      <td>-5.006080</td>\n",
       "    </tr>\n",
       "  </tbody>\n",
       "</table>\n",
       "</div>"
      ],
      "text/plain": [
       "       feature_prob\n",
       "count   4000.000000\n",
       "mean      -8.514758\n",
       "std        0.582598\n",
       "min       -9.410752\n",
       "25%       -8.908874\n",
       "50%       -8.624118\n",
       "75%       -8.221531\n",
       "max       -5.006080"
      ]
     },
     "execution_count": 61,
     "metadata": {},
     "output_type": "execute_result"
    }
   ],
   "source": [
    "zipped_df.describe()"
   ]
  },
  {
   "cell_type": "code",
   "execution_count": 62,
   "id": "0b298924-2491-403d-b821-b68026afbdb6",
   "metadata": {},
   "outputs": [
    {
     "data": {
      "text/plain": [
       "feature_name       zone\n",
       "feature_prob   -5.00608\n",
       "dtype: object"
      ]
     },
     "execution_count": 62,
     "metadata": {},
     "output_type": "execute_result"
    }
   ],
   "source": [
    "zipped_df.max()"
   ]
  },
  {
   "cell_type": "code",
   "execution_count": 63,
   "id": "dc391961-fe01-4fd1-a35b-c25fa0953273",
   "metadata": {},
   "outputs": [
    {
     "data": {
      "text/plain": [
       "feature_name         000\n",
       "feature_prob   -9.410752\n",
       "dtype: object"
      ]
     },
     "execution_count": 63,
     "metadata": {},
     "output_type": "execute_result"
    }
   ],
   "source": [
    "zipped_df.min()"
   ]
  },
  {
   "cell_type": "code",
   "execution_count": 64,
   "id": "7700e28b-6404-499f-8597-8cf158d4b581",
   "metadata": {},
   "outputs": [],
   "source": [
    "tvec_pred_df = pd.DataFrame({'true_values': y_test,\n",
    "                             'pred_probs': gs_tvec.predict_proba(X_test)[:,1]})"
   ]
  },
  {
   "cell_type": "code",
   "execution_count": 117,
   "id": "d58fde50-3bc1-4819-86d9-965cf0bf56eb",
   "metadata": {},
   "outputs": [
    {
     "name": "stderr",
     "output_type": "stream",
     "text": [
      "C:\\Users\\sbhew\\anaconda3\\envs\\dsi\\lib\\site-packages\\seaborn\\distributions.py:2619: FutureWarning: `distplot` is a deprecated function and will be removed in a future version. Please adapt your code to use either `displot` (a figure-level function with similar flexibility) or `histplot` (an axes-level function for histograms).\n",
      "  warnings.warn(msg, FutureWarning)\n"
     ]
    },
    {
     "data": {
      "image/png": "[encoded data removed]",
      "text/plain": [
       "<Figure size 864x360 with 1 Axes>"
      ]
     },
     "metadata": {
      "needs_background": "light"
     },
     "output_type": "display_data"
    }
   ],
   "source": [
    "plt.figure(figsize = (12, 5))\n",
    "\n",
    "# plot distributions of predicted probabilities by actual values\n",
    "for group in tvec_pred_df.groupby('true_values'):\n",
    "    sns.distplot(group[1], kde = False, bins = 30, label = f'Actual Outcome = {group[0]}')\n",
    "\n",
    "plt.xlabel('Predicted Probability that Outcome = 1 (r/Fantasy)')\n",
    "plt.legend();"
   ]
  },
  {
   "cell_type": "markdown",
   "id": "cd42310c-5e26-48f3-8b7e-dfdcfd922f7a",
   "metadata": {},
   "source": [
    "---\n",
    "## GridSearch with CountVectorizer & LogisticRegression"
   ]
  },
  {
   "cell_type": "code",
   "execution_count": 66,
   "id": "f7cd0a3b-b84f-48ea-a661-7008e57a45cd",
   "metadata": {},
   "outputs": [],
   "source": [
    "X = total_data['total_text']\n",
    "y = total_data['subreddit']"
   ]
  },
  {
   "cell_type": "code",
   "execution_count": 67,
   "id": "e19410de-9ab3-4347-a34e-d6ecccc7eaee",
   "metadata": {},
   "outputs": [],
   "source": [
    "X_train, X_test, y_train, y_test = train_test_split(X,\n",
    "                                                    y,\n",
    "                                                    stratify=y,\n",
    "                                                    random_state=42)"
   ]
  },
  {
   "cell_type": "code",
   "execution_count": 68,
   "id": "fadd98ff-6cbd-4f5c-a470-a1e197e8867f",
   "metadata": {},
   "outputs": [],
   "source": [
    "logreg_pipe = Pipeline([\n",
    "    ('cvec', CountVectorizer()),\n",
    "    ('logreg', LogisticRegression(max_iter = 10_000))\n",
    "])"
   ]
  },
  {
   "cell_type": "code",
   "execution_count": 69,
   "id": "654f4a3f-0875-48e3-91d3-d41f41d8eb3a",
   "metadata": {},
   "outputs": [
    {
     "data": {
      "text/plain": [
       "{'memory': None,\n",
       " 'steps': [('cvec', CountVectorizer()),\n",
       "  ('logreg', LogisticRegression(max_iter=10000))],\n",
       " 'verbose': False,\n",
       " 'cvec': CountVectorizer(),\n",
       " 'logreg': LogisticRegression(max_iter=10000),\n",
       " 'cvec__analyzer': 'word',\n",
       " 'cvec__binary': False,\n",
       " 'cvec__decode_error': 'strict',\n",
       " 'cvec__dtype': numpy.int64,\n",
       " 'cvec__encoding': 'utf-8',\n",
       " 'cvec__input': 'content',\n",
       " 'cvec__lowercase': True,\n",
       " 'cvec__max_df': 1.0,\n",
       " 'cvec__max_features': None,\n",
       " 'cvec__min_df': 1,\n",
       " 'cvec__ngram_range': (1, 1),\n",
       " 'cvec__preprocessor': None,\n",
       " 'cvec__stop_words': None,\n",
       " 'cvec__strip_accents': None,\n",
       " 'cvec__token_pattern': '(?u)\\\\b\\\\w\\\\w+\\\\b',\n",
       " 'cvec__tokenizer': None,\n",
       " 'cvec__vocabulary': None,\n",
       " 'logreg__C': 1.0,\n",
       " 'logreg__class_weight': None,\n",
       " 'logreg__dual': False,\n",
       " 'logreg__fit_intercept': True,\n",
       " 'logreg__intercept_scaling': 1,\n",
       " 'logreg__l1_ratio': None,\n",
       " 'logreg__max_iter': 10000,\n",
       " 'logreg__multi_class': 'auto',\n",
       " 'logreg__n_jobs': None,\n",
       " 'logreg__penalty': 'l2',\n",
       " 'logreg__random_state': None,\n",
       " 'logreg__solver': 'lbfgs',\n",
       " 'logreg__tol': 0.0001,\n",
       " 'logreg__verbose': 0,\n",
       " 'logreg__warm_start': False}"
      ]
     },
     "execution_count": 69,
     "metadata": {},
     "output_type": "execute_result"
    }
   ],
   "source": [
    "logreg_pipe.get_params()"
   ]
  },
  {
   "cell_type": "code",
   "execution_count": 79,
   "id": "cad3e2af-9e81-42d4-9916-0da2f4eaafd7",
   "metadata": {},
   "outputs": [],
   "source": [
    "pipe_params = {\n",
    "    'cvec__max_features': [3_000, 4_000, 5_000], # max num of features\n",
    "    'cvec__min_df': [2, 3, 4, 5, 10], # min num of documents needed in percentage\n",
    "    'cvec__max_df': [.9, .95], # max num of documents needed in percentage\n",
    "    'cvec__ngram_range': [(1, 1), (1, 2)],\n",
    "    'cvec__stop_words': ['english'],\n",
    "    'logreg__C': [0.01, 0.1, 0.5, 1]\n",
    "}"
   ]
  },
  {
   "cell_type": "code",
   "execution_count": 80,
   "id": "3708f0da-2fb1-4fc7-b905-70881a3c5a03",
   "metadata": {},
   "outputs": [],
   "source": [
    "gs_logreg = GridSearchCV(logreg_pipe, \n",
    "                         param_grid = pipe_params, \n",
    "                         cv = 5) "
   ]
  },
  {
   "cell_type": "code",
   "execution_count": 81,
   "id": "84e2f684-6a5c-4e30-97e0-bf1b2590383e",
   "metadata": {},
   "outputs": [
    {
     "data": {
      "text/plain": [
       "GridSearchCV(cv=5,\n",
       "             estimator=Pipeline(steps=[('cvec', CountVectorizer()),\n",
       "                                       ('logreg',\n",
       "                                        LogisticRegression(max_iter=10000))]),\n",
       "             param_grid={'cvec__max_df': [0.9, 0.95],\n",
       "                         'cvec__max_features': [3000, 4000, 5000],\n",
       "                         'cvec__min_df': [2, 3, 4, 5, 10],\n",
       "                         'cvec__ngram_range': [(1, 1), (1, 2)],\n",
       "                         'cvec__stop_words': ['english'],\n",
       "                         'logreg__C': [0.01, 0.1, 0.5, 1]})"
      ]
     },
     "execution_count": 81,
     "metadata": {},
     "output_type": "execute_result"
    }
   ],
   "source": [
    "gs_logreg.fit(X_train, y_train)"
   ]
  },
  {
   "cell_type": "code",
   "execution_count": 82,
   "id": "f625c1ff-46db-41a8-b74b-5d01fa644675",
   "metadata": {},
   "outputs": [
    {
     "name": "stdout",
     "output_type": "stream",
     "text": [
      "Train Score: 0.9177355152587351\n",
      "Test Score: 0.8713527851458885\n"
     ]
    }
   ],
   "source": [
    "print(f'Train Score: {gs_logreg.score(X_train, y_train)}')\n",
    "print(f'Test Score: {gs_logreg.score(X_test, y_test)}')"
   ]
  },
  {
   "cell_type": "code",
   "execution_count": 83,
   "id": "e61cae12-f184-40a0-9b31-30ba41a1b07c",
   "metadata": {},
   "outputs": [],
   "source": [
    "#gs_logreg.best_params_"
   ]
  },
  {
   "cell_type": "code",
   "execution_count": 84,
   "id": "f25bb1ce-2016-491b-be7b-356e10c8272a",
   "metadata": {},
   "outputs": [],
   "source": [
    "logreg_pred_df = pd.DataFrame({'true_values': y_test,\n",
    "                               'pred_probs': gs_logreg.predict_proba(X_test)[:,1]})"
   ]
  },
  {
   "cell_type": "code",
   "execution_count": 118,
   "id": "b1ebdb31-cb5a-4d5a-ba85-2abca6386c12",
   "metadata": {},
   "outputs": [
    {
     "name": "stderr",
     "output_type": "stream",
     "text": [
      "C:\\Users\\sbhew\\anaconda3\\envs\\dsi\\lib\\site-packages\\seaborn\\distributions.py:2619: FutureWarning: `distplot` is a deprecated function and will be removed in a future version. Please adapt your code to use either `displot` (a figure-level function with similar flexibility) or `histplot` (an axes-level function for histograms).\n",
      "  warnings.warn(msg, FutureWarning)\n"
     ]
    },
    {
     "data": {
      "image/png": "[encoded data removed]",
      "text/plain": [
       "<Figure size 864x360 with 1 Axes>"
      ]
     },
     "metadata": {
      "needs_background": "light"
     },
     "output_type": "display_data"
    }
   ],
   "source": [
    "plt.figure(figsize = (12, 5))\n",
    "\n",
    "# plot distributions of predicted probabilities by actual values\n",
    "for group in logreg_pred_df.groupby('true_values'):\n",
    "    sns.distplot(group[1], kde = False, bins = 50, label = f'Actual Outcome = {group[0]}')\n",
    "\n",
    "plt.xlabel('Predicted Probability that Outcome = 1 (r/Fantasy)')\n",
    "plt.legend();"
   ]
  },
  {
   "cell_type": "code",
   "execution_count": 86,
   "id": "fc29f939-b00d-4618-8f3f-f89ff40c5ba5",
   "metadata": {},
   "outputs": [],
   "source": [
    "# predictions\n",
    "preds_tvec = gs_logreg.predict(X_test)\n",
    "\n",
    "# confusion matrix values\n",
    "tn, fp, fn, tp = confusion_matrix(y_test, preds_tvec).ravel()"
   ]
  },
  {
   "cell_type": "code",
   "execution_count": 109,
   "id": "5de0aa20-05b7-4db8-9e3e-36db7b62f997",
   "metadata": {},
   "outputs": [
    {
     "name": "stderr",
     "output_type": "stream",
     "text": [
      "C:\\Users\\sbhew\\anaconda3\\envs\\dsi\\lib\\site-packages\\sklearn\\utils\\deprecation.py:87: FutureWarning: Function plot_confusion_matrix is deprecated; Function `plot_confusion_matrix` is deprecated in 1.0 and will be removed in 1.2. Use one of the class methods: ConfusionMatrixDisplay.from_predictions or ConfusionMatrixDisplay.from_estimator.\n",
      "  warnings.warn(msg, category=FutureWarning)\n"
     ]
    },
    {
     "data": {
      "image/png": "[encoded data removed]",
      "text/plain": [
       "<Figure size 432x288 with 2 Axes>"
      ]
     },
     "metadata": {
      "needs_background": "light"
     },
     "output_type": "display_data"
    }
   ],
   "source": [
    "plot_confusion_matrix(gs_logreg, X_test, y_test, cmap = 'Reds', display_labels = ['r/books', 'r/Fantasy'])\n",
    "plt.title('CVEC & LogReg Pipe');"
   ]
  },
  {
   "cell_type": "code",
   "execution_count": 107,
   "id": "06796189-070e-412d-9e0d-4fadce11fda6",
   "metadata": {},
   "outputs": [
    {
     "name": "stderr",
     "output_type": "stream",
     "text": [
      "C:\\Users\\sbhew\\anaconda3\\envs\\dsi\\lib\\site-packages\\sklearn\\utils\\deprecation.py:87: FutureWarning: Function plot_confusion_matrix is deprecated; Function `plot_confusion_matrix` is deprecated in 1.0 and will be removed in 1.2. Use one of the class methods: ConfusionMatrixDisplay.from_predictions or ConfusionMatrixDisplay.from_estimator.\n",
      "  warnings.warn(msg, category=FutureWarning)\n",
      "C:\\Users\\sbhew\\anaconda3\\envs\\dsi\\lib\\site-packages\\sklearn\\utils\\deprecation.py:87: FutureWarning: Function plot_confusion_matrix is deprecated; Function `plot_confusion_matrix` is deprecated in 1.0 and will be removed in 1.2. Use one of the class methods: ConfusionMatrixDisplay.from_predictions or ConfusionMatrixDisplay.from_estimator.\n",
      "  warnings.warn(msg, category=FutureWarning)\n",
      "C:\\Users\\sbhew\\anaconda3\\envs\\dsi\\lib\\site-packages\\sklearn\\utils\\deprecation.py:87: FutureWarning: Function plot_confusion_matrix is deprecated; Function `plot_confusion_matrix` is deprecated in 1.0 and will be removed in 1.2. Use one of the class methods: ConfusionMatrixDisplay.from_predictions or ConfusionMatrixDisplay.from_estimator.\n",
      "  warnings.warn(msg, category=FutureWarning)\n"
     ]
    },
    {
     "data": {
      "image/png": "[encoded data removed]",
      "text/plain": [
       "<Figure size 864x288 with 6 Axes>"
      ]
     },
     "metadata": {
      "needs_background": "light"
     },
     "output_type": "display_data"
    }
   ],
   "source": [
    "fig, ax = plt.subplots(1, 3, figsize = (12, 4))\n",
    "plot_confusion_matrix(gs, X_test, y_test, cmap='Greens', display_labels = ['r/books', 'r/Fantasy'], ax = ax[0])\n",
    "plot_confusion_matrix(gs_tvec, X_test, y_test, cmap = 'Blues', display_labels = ['r/books', 'r/Fantasy'], ax = ax[1])\n",
    "plot_confusion_matrix(gs_logreg, X_test, y_test, cmap = 'Reds', display_labels = ['r/books', 'r/Fantasy'], ax = ax[2])\n",
    "ax[0].set_title('CVEC & NB Pipe')\n",
    "ax[1].set_title('TVEC & NB Pipe')\n",
    "ax[2].set_title('CVEC & LogReg Pipe');"
   ]
  },
  {
   "cell_type": "code",
   "execution_count": null,
   "id": "615e50db-4554-4a88-9e44-f07fb2e0c5c0",
   "metadata": {},
   "outputs": [],
   "source": []
  }
 ],
 "metadata": {
  "kernelspec": {
   "display_name": "Python 3 (ipykernel)",
   "language": "python",
   "name": "python3"
  },
  "language_info": {
   "codemirror_mode": {
    "name": "ipython",
    "version": 3
   },
   "file_extension": ".py",
   "mimetype": "text/x-python",
   "name": "python",
   "nbconvert_exporter": "python",
   "pygments_lexer": "ipython3",
   "version": "3.9.12"
  }
 },
 "nbformat": 4,
 "nbformat_minor": 5
}
